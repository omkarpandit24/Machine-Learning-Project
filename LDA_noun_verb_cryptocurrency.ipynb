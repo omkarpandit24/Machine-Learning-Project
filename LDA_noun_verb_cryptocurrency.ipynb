{
 "cells": [
  {
   "cell_type": "markdown",
   "metadata": {},
   "source": [
    "# Latent Drichelet Allocation algorithm implementation for cryptocurrency topic modelling"
   ]
  },
  {
   "cell_type": "markdown",
   "metadata": {},
   "source": [
    "Importing required python libraries for LDA.\n",
    "Parts of this code has been adopted https://towardsdatascience.com/topic-modeling-and-latent-dirichlet-allocation-in-python-9bf156893c24"
   ]
  },
  {
   "cell_type": "code",
   "execution_count": null,
   "metadata": {},
   "outputs": [],
   "source": [
    "import re\n",
    "import numpy as np\n",
    "import pandas as pd\n",
    "from pprint import pprint\n",
    "    \n",
    "# Gensim\n",
    "import gensim\n",
    "import gensim.corpora as corpora\n",
    "from gensim.utils import simple_preprocess\n",
    "from gensim.models import CoherenceModel\n",
    "\n",
    "# spacy for lemmatization\n",
    "import spacy\n",
    "\n",
    "# Plotting tools\n",
    "import pyLDAvis\n",
    "import pyLDAvis.gensim  # don't skip this\n",
    "import matplotlib.pyplot as plt\n",
    "%matplotlib inline\n",
    "\n",
    "# Enable logging for gensim - optional\n",
    "import logging\n",
    "logging.basicConfig(format='%(asctime)s : %(levelname)s : %(message)s', level=logging.ERROR)\n",
    "\n",
    "import warnings\n",
    "warnings.filterwarnings(\"ignore\",category=DeprecationWarning)"
   ]
  },
  {
   "cell_type": "code",
   "execution_count": 41,
   "metadata": {},
   "outputs": [],
   "source": [
    "# NLTK Stop words\n",
    "from nltk.corpus import stopwords\n",
    "stop_words = stopwords.words('english')\n",
    "stop_words.extend(['expect', 'from', 'subject', 're', 'use', 'issue', 'bug', 'error', 'test', 'remove', 'event', 'result', 'enable', 'support'])\n",
    "\n",
    "# NLTK Stop words - Noun\n",
    "from nltk.corpus import stopwords\n",
    "stop_words_noun = stopwords.words('english')\n",
    "stop_words_noun.extend(['case', 'from', 'subject', 're', 'show', 'crash', 'issue', 'error', 'support', 'bug', 'area','default'])\n",
    "\n",
    "# NLTK Stop words - Verb\n",
    "from nltk.corpus import stopwords\n",
    "stop_words_verb = stopwords.words('english')\n",
    "stop_words_verb.extend(['from', 'subject', 're', 'edu', 'use', 'issue'])"
   ]
  },
  {
   "cell_type": "code",
   "execution_count": 42,
   "metadata": {},
   "outputs": [
    {
     "data": {
      "text/html": [
       "<div>\n",
       "<style scoped>\n",
       "    .dataframe tbody tr th:only-of-type {\n",
       "        vertical-align: middle;\n",
       "    }\n",
       "\n",
       "    .dataframe tbody tr th {\n",
       "        vertical-align: top;\n",
       "    }\n",
       "\n",
       "    .dataframe thead th {\n",
       "        text-align: right;\n",
       "    }\n",
       "</style>\n",
       "<table border=\"1\" class=\"dataframe\">\n",
       "  <thead>\n",
       "    <tr style=\"text-align: right;\">\n",
       "      <th></th>\n",
       "      <th>sr_no</th>\n",
       "      <th>screen_name</th>\n",
       "      <th>tweet_text</th>\n",
       "    </tr>\n",
       "  </thead>\n",
       "  <tbody>\n",
       "    <tr>\n",
       "      <th>0</th>\n",
       "      <td>1</td>\n",
       "      <td>satoshifinder</td>\n",
       "      <td>satoshifinder blockchain user interface will d...</td>\n",
       "    </tr>\n",
       "    <tr>\n",
       "      <th>1</th>\n",
       "      <td>2</td>\n",
       "      <td>K28472777</td>\n",
       "      <td>k28472777 value broke $4540. lets start anounc...</td>\n",
       "    </tr>\n",
       "    <tr>\n",
       "      <th>2</th>\n",
       "      <td>3</td>\n",
       "      <td>K28472777</td>\n",
       "      <td>k28472777 beware bitcoin gold scam https://t.c...</td>\n",
       "    </tr>\n",
       "    <tr>\n",
       "      <th>3</th>\n",
       "      <td>4</td>\n",
       "      <td>anuraagjain</td>\n",
       "      <td>anuraagjain rejoice #bitcoin &amp;gt; $4500, targe...</td>\n",
       "    </tr>\n",
       "    <tr>\n",
       "      <th>4</th>\n",
       "      <td>5</td>\n",
       "      <td>coinspeedZ</td>\n",
       "      <td>coinspeedz vitalik is no enemy of bitcoin. htt...</td>\n",
       "    </tr>\n",
       "  </tbody>\n",
       "</table>\n",
       "</div>"
      ],
      "text/plain": [
       "   sr_no    screen_name                                         tweet_text\n",
       "0      1  satoshifinder  satoshifinder blockchain user interface will d...\n",
       "1      2      K28472777  k28472777 value broke $4540. lets start anounc...\n",
       "2      3      K28472777  k28472777 beware bitcoin gold scam https://t.c...\n",
       "3      4    anuraagjain  anuraagjain rejoice #bitcoin &gt; $4500, targe...\n",
       "4      5     coinspeedZ  coinspeedz vitalik is no enemy of bitcoin. htt..."
      ]
     },
     "execution_count": 42,
     "metadata": {},
     "output_type": "execute_result"
    }
   ],
   "source": [
    "# Import Dataset\n",
    "import chardet\n",
    "import pandas as pd\n",
    "df = pd.read_csv('tweets_wo_Loc_final.csv', encoding = \"ISO-8859-1\")\n",
    "df.head()"
   ]
  },
  {
   "cell_type": "code",
   "execution_count": 43,
   "metadata": {},
   "outputs": [
    {
     "data": {
      "text/plain": [
       "sr_no           11394\n",
       " screen_name    11394\n",
       "tweet_text      11394\n",
       "dtype: int64"
      ]
     },
     "execution_count": 43,
     "metadata": {},
     "output_type": "execute_result"
    }
   ],
   "source": [
    "df.count()"
   ]
  },
  {
   "cell_type": "code",
   "execution_count": 44,
   "metadata": {},
   "outputs": [
    {
     "data": {
      "text/plain": [
       "sr_no            int64\n",
       " screen_name    object\n",
       "tweet_text      object\n",
       "dtype: object"
      ]
     },
     "execution_count": 44,
     "metadata": {},
     "output_type": "execute_result"
    }
   ],
   "source": [
    "# Convert to list\n",
    "data = df.tweet_text.values.tolist()\n",
    "df.dtypes"
   ]
  },
  {
   "cell_type": "markdown",
   "metadata": {},
   "source": [
    "Data Preprocessing using NLTK libraries "
   ]
  },
  {
   "cell_type": "code",
   "execution_count": 45,
   "metadata": {},
   "outputs": [
    {
     "name": "stdout",
     "output_type": "stream",
     "text": [
      "['satoshifinder blockchain user interface will deliver experiential value and '\n",
      " 'speed up mainstream adoption https //t.co/pjoneqwfmd bitcoin']\n"
     ]
    }
   ],
   "source": [
    "# Remove special characters\n",
    "data = [re.sub(r'[@#\\$%&\\*\\(\\)\\<\\>\\?\\'\\\";:\\]\\[-]', ' ', sent) for sent in data]\n",
    "\n",
    "# Remove distracting single quotes\n",
    "data = [re.sub(\"\\'\", \"\", sent) for sent in data]\n",
    "\n",
    "# Remove new line characters\n",
    "data = [re.sub('\\s+', ' ', sent) for sent in data]\n",
    "\n",
    "pprint(data[:1])"
   ]
  },
  {
   "cell_type": "code",
   "execution_count": 46,
   "metadata": {},
   "outputs": [
    {
     "name": "stdout",
     "output_type": "stream",
     "text": [
      "[['satoshifinder', 'blockchain', 'user', 'interface', 'will', 'deliver', 'experiential', 'value', 'and', 'speed', 'up', 'mainstream', 'adoption', 'https', 'co', 'pjoneqwfmd', 'bitcoin']]\n"
     ]
    }
   ],
   "source": [
    "#Tokenize words and Clean-up text\n",
    "def sent_to_words(sentences):\n",
    "    for sentence in sentences:\n",
    "        yield(gensim.utils.simple_preprocess(str(sentence), deacc=True))  # deacc=True removes punctuations\n",
    "\n",
    "data_words = list(sent_to_words(data))\n",
    "\n",
    "print(data_words[:1])"
   ]
  },
  {
   "cell_type": "code",
   "execution_count": 47,
   "metadata": {},
   "outputs": [],
   "source": [
    "def remove_stopwords(texts):\n",
    "    return [[word for word in simple_preprocess(str(doc)) if word not in stop_words] for doc in texts]\n",
    "\n",
    "def remove_stopwords_noun(texts):\n",
    "    return [[word for word in simple_preprocess(str(doc)) if word not in stop_words_noun] for doc in texts]\n",
    "\n",
    "def remove_stopwords_verb(texts):\n",
    "    return [[word for word in simple_preprocess(str(doc)) if word not in stop_words_verb] for doc in texts]"
   ]
  },
  {
   "cell_type": "code",
   "execution_count": 48,
   "metadata": {},
   "outputs": [],
   "source": [
    "def lemmatization(texts, allowed_postags=['NOUN', 'ADJ', 'VERB', 'ADV']):\n",
    "    \"\"\"https://spacy.io/api/annotation\"\"\"\n",
    "    texts_out = []\n",
    "    for sent in texts:\n",
    "        doc = nlp(\" \".join(sent)) \n",
    "        texts_out.append([token.lemma_ for token in doc if token.pos_ in allowed_postags])\n",
    "    return texts_out"
   ]
  },
  {
   "cell_type": "code",
   "execution_count": 49,
   "metadata": {},
   "outputs": [
    {
     "name": "stdout",
     "output_type": "stream",
     "text": [
      "[['altcoinbot_io', 'stopped', 'sold', 'shift', 'position', 'loss', 'loss', 'altcoin', 'value', 'bitcoin']]\n",
      "[['altcoinbot_io', 'stopped', 'sold', 'shift', 'position', 'loss', 'loss', 'altcoin', 'value', 'bitcoin']]\n",
      "[['value', 'broke', 'lets', 'start', 'anouncing', 'value', 'every', 'https', 'co', 'lss', 'vahyp']]\n"
     ]
    }
   ],
   "source": [
    "# Remove Stop Words\n",
    "data_words_nostops = remove_stopwords(data_words)\n",
    "len(data_words)\n",
    "len(data_words)\n",
    "print(data_words_nostops[13:14])\n",
    "\n",
    "data_words_nostops_noun = remove_stopwords_noun(data_words)\n",
    "len(data_words)\n",
    "len(data_words_nostops_noun)\n",
    "print(data_words_nostops[13:14])\n",
    "\n",
    "data_words_nostops_verb = remove_stopwords_verb(data_words)\n",
    "len(data_words)\n",
    "len(data_words_nostops_verb)\n",
    "print(data_words_nostops[1:2])"
   ]
  },
  {
   "cell_type": "code",
   "execution_count": 50,
   "metadata": {},
   "outputs": [],
   "source": [
    "# Initialize spacy 'en' model, keeping only tagger component (for efficiency)\n",
    "# python3 -m spacy download en\n",
    "nlp = spacy.load('en', disable=['parser', 'ner'])\n",
    "# Do lemmatization keeping only noun, adj, vb, adv\n",
    "data_lemmatized = lemmatization(data_words_nostops, allowed_postags=['NOUN', 'ADJ', 'VERB', 'ADV'])\n",
    "\n",
    "data_lemmatized_noun = lemmatization(data_words_nostops_noun, allowed_postags=['NOUN'])\n",
    "data_lemmatized_noun = [x for x in data_lemmatized_noun if x != []]\n",
    "\n",
    "data_lemmatized_verb = lemmatization(data_words_nostops_verb, allowed_postags=['VERB'])\n",
    "data_lemmatized_verb = [x for x in data_lemmatized_verb if x != []]"
   ]
  },
  {
   "cell_type": "code",
   "execution_count": 51,
   "metadata": {},
   "outputs": [
    {
     "name": "stdout",
     "output_type": "stream",
     "text": [
      "[['stop', 'sell', 'shift', 'position', 'loss', 'loss', 'altcoin', 'value', 'bitcoin']]\n",
      "[['shift', 'position', 'loss', 'loss', 'altcoin', 'value', 'bitcoin']]\n",
      "[['allow', 'pay']]\n"
     ]
    }
   ],
   "source": [
    "# Remove Stop Words from lemmatized words\n",
    "data_lemmatized = remove_stopwords(data_lemmatized)\n",
    "len(data_words)\n",
    "len(data_lemmatized)\n",
    "print(data_lemmatized[13:14])\n",
    "\n",
    "data_lemmatized_noun = remove_stopwords_noun(data_lemmatized_noun)\n",
    "len(data_words)\n",
    "len(data_lemmatized_noun)\n",
    "print(data_lemmatized_noun[13:14])\n",
    "\n",
    "data_lemmatized_verb = remove_stopwords_verb(data_lemmatized_verb)\n",
    "len(data_words)\n",
    "len(data_lemmatized_verb)\n",
    "print(data_lemmatized_verb[13:14])"
   ]
  },
  {
   "cell_type": "code",
   "execution_count": 52,
   "metadata": {},
   "outputs": [],
   "source": [
    "#Dictionary and Corpus needed for Topic Modeling\n",
    "# Create Dictionary\n",
    "id2word = corpora.Dictionary(data_lemmatized)\n",
    "\n",
    "id2word_noun = corpora.Dictionary(data_lemmatized_noun)\n",
    "\n",
    "id2word_verb = corpora.Dictionary(data_lemmatized_verb)"
   ]
  },
  {
   "cell_type": "code",
   "execution_count": 53,
   "metadata": {},
   "outputs": [],
   "source": [
    "# Create Corpus\n",
    "texts = data_lemmatized\n",
    "\n",
    "texts_noun = data_lemmatized_noun\n",
    "\n",
    "texts_verb = data_lemmatized_verb"
   ]
  },
  {
   "cell_type": "markdown",
   "metadata": {},
   "source": [
    "Document Term matrix for 3 LDA models"
   ]
  },
  {
   "cell_type": "code",
   "execution_count": 54,
   "metadata": {},
   "outputs": [],
   "source": [
    "# Term Document Frequency\n",
    "corpus = [id2word.doc2bow(text) for text in texts]\n",
    "\n",
    "corpus_noun = [id2word_noun.doc2bow(text) for text in texts_noun]\n",
    "\n",
    "corpus_verb = [id2word_verb.doc2bow(text) for text in texts_verb]"
   ]
  },
  {
   "cell_type": "code",
   "execution_count": 55,
   "metadata": {},
   "outputs": [
    {
     "data": {
      "text/plain": [
       "[[('scam', 1), ('anuraagjain', 1)]]"
      ]
     },
     "execution_count": 55,
     "metadata": {},
     "output_type": "execute_result"
    }
   ],
   "source": [
    "# Human readable format of corpus (term-frequency)\n",
    "[[(id2word[id], freq) for id, freq in cp] for cp in corpus[13:14]]\n",
    "\n",
    "[[(id2word[id], freq) for id, freq in cp] for cp in corpus_noun[13:14]]\n",
    "\n",
    "[[(id2word[id], freq) for id, freq in cp] for cp in corpus_verb[13:14]]\n"
   ]
  },
  {
   "cell_type": "code",
   "execution_count": 56,
   "metadata": {},
   "outputs": [],
   "source": [
    "#Compute coherence score for whole corpus\n",
    "def compute_coherence_values(dictionary, corpus, texts, limit, start=1, step=1):\n",
    "    \"\"\"\n",
    "    Compute c_v coherence for various number of topics\n",
    "\n",
    "    Parameters:\n",
    "    ----------\n",
    "    dictionary : Gensim dictionary\n",
    "    corpus : Gensim corpus\n",
    "    texts : List of input texts\n",
    "    limit : Max num of topics\n",
    "\n",
    "    Returns:\n",
    "    -------\n",
    "    model_list : List of LDA topic models\n",
    "    coherence_values : Coherence values corresponding to the LDA model with respective number of topics\n",
    "    \"\"\"\n",
    "    coherence_values = []\n",
    "    model_list = []\n",
    "    for num_topics in range(start, limit, step):\n",
    "        model=gensim.models.ldamodel.LdaModel(corpus=corpus, id2word=dictionary, num_topics=num_topics)\n",
    "        model_list.append(model)\n",
    "        coherencemodel = CoherenceModel(model=model, texts=texts, dictionary=dictionary, coherence='c_v')\n",
    "        coherence_values.append(coherencemodel.get_coherence())\n",
    "\n",
    "    return model_list, coherence_values"
   ]
  },
  {
   "cell_type": "code",
   "execution_count": 57,
   "metadata": {},
   "outputs": [
    {
     "data": {
      "image/png": "[encoded data removed]",
      "text/plain": [
       "<Figure size 432x288 with 1 Axes>"
      ]
     },
     "metadata": {},
     "output_type": "display_data"
    }
   ],
   "source": [
    "model_list, coherence_values = compute_coherence_values(dictionary=id2word, corpus=corpus, texts=data_lemmatized, start=1, limit=6, step=1)\n",
    "# Show graph\n",
    "import matplotlib.pyplot as plt\n",
    "limit=6; start=1; step=1;\n",
    "x = range(start, limit, step)\n",
    "plt.plot(x, coherence_values)\n",
    "plt.xlabel(\"Num Topics\")\n",
    "plt.ylabel(\"Coherence score\")\n",
    "plt.legend((\"coherence_values\"), loc='best')\n",
    "plt.show()"
   ]
  },
  {
   "cell_type": "code",
   "execution_count": 30,
   "metadata": {},
   "outputs": [
    {
     "data": {
      "text/plain": [
       "[0.36164336734461483,\n",
       " 0.36164336734461483,\n",
       " 0.36164336734461483,\n",
       " 0.36164336734461483,\n",
       " 0.36164336734461483]"
      ]
     },
     "execution_count": 30,
     "metadata": {},
     "output_type": "execute_result"
    }
   ],
   "source": [
    "coherence_values"
   ]
  },
  {
   "cell_type": "code",
   "execution_count": 31,
   "metadata": {},
   "outputs": [
    {
     "data": {
      "text/plain": [
       "range(1, 10)"
      ]
     },
     "execution_count": 31,
     "metadata": {},
     "output_type": "execute_result"
    }
   ],
   "source": [
    "x"
   ]
  },
  {
   "cell_type": "code",
   "execution_count": 27,
   "metadata": {},
   "outputs": [],
   "source": [
    "#Building the Topic Model\n",
    "# Build LDA model for whole text with 4 number of topics.\n",
    "#Number of topics has been selected based on coherence score plot.\n",
    "lda_model = gensim.models.ldamodel.LdaModel(corpus=corpus,\n",
    "                                           id2word=id2word,\n",
    "                                           num_topics=4, \n",
    "                                           random_state=100,\n",
    "                                           update_every=1,\n",
    "                                           chunksize=100,\n",
    "                                           passes=20,\n",
    "                                           alpha='auto',\n",
    "                                           per_word_topics=True)"
   ]
  },
  {
   "cell_type": "code",
   "execution_count": 28,
   "metadata": {},
   "outputs": [
    {
     "name": "stderr",
     "output_type": "stream",
     "text": [
      "C:\\Omkar\\python36\\lib\\site-packages\\pyLDAvis\\_prepare.py:257: FutureWarning: Sorting because non-concatenation axis is not aligned. A future version\n",
      "of pandas will change to not sort by default.\n",
      "\n",
      "To accept the future behavior, pass 'sort=True'.\n",
      "\n",
      "To retain the current behavior and silence the warning, pass sort=False\n",
      "\n",
      "  return pd.concat([default_term_info] + list(topic_dfs))\n"
     ]
    },
    {
     "data": {
      "text/html": [
       "\n",
       "<link rel=\"stylesheet\" type=\"text/css\" href=\"https://cdn.rawgit.com/bmabey/pyLDAvis/files/ldavis.v1.0.0.css\">\n",
       "\n",
       "\n",
       "<div id=\"ldavis_el1043619402323043444958183084\"></div>\n",
       "<script type=\"text/javascript\">\n",
       "\n",
       "var ldavis_el1043619402323043444958183084_data = {\"mdsDat\": {\"x\": [0.19714552612643962, 0.09830815795545401, -0.3200559727952087, 0.02460228871331506], \"y\": [-0.08769210839255996, -0.13593230556292896, -0.07296992942273242, 0.2965943433782213], \"topics\": [1, 2, 3, 4], \"cluster\": [1, 1, 1, 1], \"Freq\": [35.492088317871094, 30.96674346923828, 17.116836547851562, 16.424327850341797]}, \"tinfo\": {\"Category\": [\"Default\", \"Default\", \"Default\", \"Default\", \"Default\", \"Default\", \"Default\", \"Default\", \"Default\", \"Default\", \"Default\", \"Default\", \"Default\", \"Default\", \"Default\", \"Default\", \"Default\", \"Default\", \"Default\", \"Default\", \"Default\", \"Default\", \"Default\", \"Default\", \"Default\", \"Default\", \"Default\", \"Default\", \"Default\", \"Default\", \"Topic1\", \"Topic1\", \"Topic1\", \"Topic1\", \"Topic1\", \"Topic1\", \"Topic1\", \"Topic1\", \"Topic1\", \"Topic1\", \"Topic1\", \"Topic1\", \"Topic1\", \"Topic1\", \"Topic1\", \"Topic1\", \"Topic1\", \"Topic1\", \"Topic1\", \"Topic1\", \"Topic1\", \"Topic1\", \"Topic1\", \"Topic1\", \"Topic1\", \"Topic1\", \"Topic1\", \"Topic1\", \"Topic1\", \"Topic1\", \"Topic1\", \"Topic1\", \"Topic1\", \"Topic1\", \"Topic1\", \"Topic1\", \"Topic1\", \"Topic1\", \"Topic1\", \"Topic1\", \"Topic2\", \"Topic2\", \"Topic2\", \"Topic2\", \"Topic2\", \"Topic2\", \"Topic2\", \"Topic2\", \"Topic2\", \"Topic2\", \"Topic2\", \"Topic2\", \"Topic2\", \"Topic2\", \"Topic2\", \"Topic2\", \"Topic2\", \"Topic2\", \"Topic2\", \"Topic2\", \"Topic2\", \"Topic2\", \"Topic2\", \"Topic2\", \"Topic2\", \"Topic2\", \"Topic2\", \"Topic2\", \"Topic2\", \"Topic2\", \"Topic2\", \"Topic2\", \"Topic2\", \"Topic2\", \"Topic2\", \"Topic2\", \"Topic2\", \"Topic2\", \"Topic2\", \"Topic3\", \"Topic3\", \"Topic3\", \"Topic3\", \"Topic3\", \"Topic3\", \"Topic3\", \"Topic3\", \"Topic3\", \"Topic3\", \"Topic3\", \"Topic3\", \"Topic3\", \"Topic3\", \"Topic3\", \"Topic3\", \"Topic3\", \"Topic3\", \"Topic3\", \"Topic3\", \"Topic3\", \"Topic3\", \"Topic3\", \"Topic3\", \"Topic3\", \"Topic3\", \"Topic3\", \"Topic3\", \"Topic3\", \"Topic3\", \"Topic3\", \"Topic3\", \"Topic3\", \"Topic4\", \"Topic4\", \"Topic4\", \"Topic4\", \"Topic4\", \"Topic4\", \"Topic4\", \"Topic4\", \"Topic4\", \"Topic4\", \"Topic4\", \"Topic4\", \"Topic4\", \"Topic4\", \"Topic4\", \"Topic4\", \"Topic4\", \"Topic4\", \"Topic4\", \"Topic4\", \"Topic4\", \"Topic4\", \"Topic4\", \"Topic4\", \"Topic4\", \"Topic4\", \"Topic4\", \"Topic4\", \"Topic4\", \"Topic4\", \"Topic4\", \"Topic4\", \"Topic4\", \"Topic4\", \"Topic4\", \"Topic4\"], \"Freq\": [4271.0, 3583.0, 3950.0, 10423.0, 1503.0, 2541.0, 2373.0, 631.0, 627.0, 2053.0, 931.0, 497.0, 500.0, 480.0, 484.0, 450.0, 440.0, 439.0, 756.0, 429.0, 421.0, 600.0, 374.0, 620.0, 532.0, 529.0, 348.0, 338.0, 326.0, 307.0, 4270.53466796875, 755.3287963867188, 619.7351684570312, 503.0409240722656, 381.7657165527344, 378.6650085449219, 379.3199768066406, 369.10040283203125, 353.0224609375, 283.7428894042969, 285.97088623046875, 291.45672607421875, 269.81231689453125, 283.15264892578125, 246.06997680664062, 207.5151824951172, 189.30422973632812, 196.00958251953125, 185.97276306152344, 199.30003356933594, 173.12681579589844, 185.489013671875, 164.82749938964844, 179.49417114257812, 173.67503356933594, 139.77294921875, 130.71226501464844, 133.02565002441406, 120.4258041381836, 137.0071563720703, 334.7348937988281, 185.8001708984375, 3506.68017578125, 2113.748046875, 1770.6568603515625, 740.3339233398438, 5375.2744140625, 338.6116638183594, 561.4774169921875, 220.83493041992188, 3582.4462890625, 930.7366333007812, 528.7824096679688, 1501.844970703125, 531.6575317382812, 446.7211608886719, 342.58258056640625, 298.7296142578125, 277.9477233886719, 267.19573974609375, 258.74945068359375, 218.86488342285156, 213.0530548095703, 207.80897521972656, 205.42039489746094, 186.77017211914062, 186.07354736328125, 174.88055419921875, 180.82786560058594, 171.42454528808594, 169.68174743652344, 170.3772430419922, 198.369384765625, 167.91624450683594, 130.4683074951172, 128.84022521972656, 131.93930053710938, 134.6588592529297, 111.42154693603516, 109.53856658935547, 122.33645629882812, 139.7909698486328, 124.86532592773438, 1979.6376953125, 3877.812744140625, 259.2431945800781, 254.08616638183594, 259.7276611328125, 144.39205932617188, 483.92901611328125, 347.7798767089844, 338.13580322265625, 293.63983154296875, 306.8355712890625, 234.68008422851562, 195.9978790283203, 189.76528930664062, 372.98138427734375, 212.06011962890625, 210.40675354003906, 177.30250549316406, 173.40724182128906, 153.60670471191406, 143.05987548828125, 144.14218139648438, 159.64468383789062, 127.31410217285156, 133.11373901367188, 118.56534576416016, 172.48141479492188, 120.4555892944336, 117.2031021118164, 163.8894805908203, 103.90505981445312, 102.06381225585938, 98.88633728027344, 101.83633422851562, 100.9433364868164, 105.173095703125, 191.4999542236328, 107.50389099121094, 149.03602600097656, 626.314697265625, 630.322021484375, 479.4988708496094, 439.9863586425781, 449.50885009765625, 438.66107177734375, 325.5022888183594, 495.9615173339844, 420.8755187988281, 291.8914489746094, 241.67044067382812, 185.83697509765625, 174.8995361328125, 146.11669921875, 147.72866821289062, 150.99032592773438, 135.10549926757812, 122.73143005371094, 120.70305633544922, 126.4557113647461, 125.04956817626953, 120.87894439697266, 129.92356872558594, 135.85580444335938, 126.03607940673828, 104.51168060302734, 104.9786148071289, 107.199951171875, 103.50765991210938, 103.79402923583984, 496.815185546875, 426.03173828125, 124.69024658203125, 451.31658935546875, 1169.7154541015625, 443.4801330566406], \"Term\": [\"value\", \"tech\", \"ethereum\", \"https\", \"join\", \"blockchain\", \"cryptocurrency\", \"litecoin\", \"airdrop\", \"bitcoin\", \"check\", \"eltc\", \"eltcoin\", \"introduce\", \"amp\", \"valueiz\", \"blog\", \"upcoming\", \"valueale\", \"rjbbt\", \"ethlend\", \"free\", \"hour\", \"btc\", \"go\", \"nologynology\", \"market\", \"new\", \"exchange\", \"week\", \"value\", \"valueale\", \"btc\", \"project\", \"sale\", \"news\", \"platform\", \"altcoin\", \"hedgevalue\", \"read\", \"bonus\", \"article\", \"altvaluex\", \"dovu\", \"day\", \"mobility\", \"pre\", \"october\", \"horizonstate\", \"dovuapi\", \"list\", \"medium\", \"index\", \"blockc\", \"plthwbgs\", \"crowdsale\", \"update\", \"gt\", \"start\", \"tip\", \"hedge\", \"expire\", \"ethereum\", \"cryptocurrency\", \"bitcoin\", \"crypto\", \"https\", \"valuealehedge\", \"blockchain\", \"rt\", \"tech\", \"check\", \"nologynology\", \"join\", \"go\", \"security\", \"interview\", \"work\", \"telegram\", \"get\", \"community\", \"kapucoin\", \"bank\", \"base\", \"business\", \"decentralize\", \"know\", \"site\", \"official\", \"video\", \"ceo\", \"chat\", \"protect\", \"service\", \"startup\", \"steem\", \"future\", \"provide\", \"building\", \"pbv\", \"investor\", \"http\", \"hst\", \"blockchain\", \"https\", \"rt\", \"bitcoin\", \"cryptocurrency\", \"crypto\", \"amp\", \"market\", \"new\", \"usd\", \"week\", \"come\", \"wallet\", \"thank\", \"hour\", \"swap\", \"atomic\", \"next\", \"everyone\", \"live\", \"soon\", \"hero\", \"top\", \"change\", \"guy\", \"coin\", \"buy\", \"good\", \"payment\", \"invest\", \"last\", \"cap\", \"grow\", \"today\", \"late\", \"retweet\", \"lend\", \"well\", \"free\", \"airdrop\", \"litecoin\", \"introduce\", \"blog\", \"valueiz\", \"upcoming\", \"exchange\", \"eltc\", \"ethlend\", \"first\", \"bitjob\", \"increase\", \"trend\", \"could\", \"world\", \"make\", \"dollar\", \"marketplace\", \"replace\", \"student\", \"follow\", \"exrp\", \"ether\", \"perform\", \"review\", \"international\", \"freelancer\", \"mark\", \"post\", \"employer\", \"eltcoin\", \"rjbbt\", \"urgency\", \"free\", \"https\", \"ethereum\"], \"Total\": [4271.0, 3583.0, 3950.0, 10423.0, 1503.0, 2541.0, 2373.0, 631.0, 627.0, 2053.0, 931.0, 497.0, 500.0, 480.0, 484.0, 450.0, 440.0, 439.0, 756.0, 429.0, 421.0, 600.0, 374.0, 620.0, 532.0, 529.0, 348.0, 338.0, 326.0, 307.0, 4271.27294921875, 756.0650024414062, 620.48388671875, 503.7984313964844, 382.4984130859375, 379.3925476074219, 380.05438232421875, 369.8335876464844, 353.74664306640625, 284.4607849121094, 286.699951171875, 292.217529296875, 270.52044677734375, 283.89678955078125, 246.8023681640625, 208.2895050048828, 190.0426025390625, 196.77435302734375, 186.71730041503906, 200.1001739501953, 173.83779907226562, 186.255615234375, 165.54110717773438, 180.30421447753906, 174.5491485595703, 140.50094604492188, 131.4608612060547, 133.7884979248047, 121.15043640136719, 137.86329650878906, 337.9110412597656, 187.62132263183594, 3950.748291015625, 2373.889404296875, 2053.490478515625, 885.13037109375, 10423.025390625, 408.5617980957031, 2541.521240234375, 577.1513671875, 3583.05810546875, 931.4138793945312, 529.3917236328125, 1503.6888427734375, 532.3114624023438, 447.32940673828125, 343.230224609375, 299.351806640625, 278.55657958984375, 267.8526916503906, 259.42047119140625, 219.4600067138672, 213.66064453125, 208.42076110839844, 206.03038024902344, 187.39476013183594, 186.71624755859375, 175.49237060546875, 181.47503662109375, 172.04534912109375, 170.29788208007812, 171.00108337402344, 199.1240692138672, 168.5552520751953, 131.06930541992188, 129.44137573242188, 132.56260681152344, 135.364990234375, 112.02567291259766, 110.13371276855469, 123.0497055053711, 141.02049255371094, 125.792236328125, 2541.521240234375, 10423.025390625, 577.1513671875, 2053.490478515625, 2373.889404296875, 885.13037109375, 484.6517333984375, 348.5281066894531, 338.8843994140625, 294.3722229003906, 307.75201416015625, 235.41656494140625, 196.72567749023438, 190.50025939941406, 374.4295654296875, 212.8861846923828, 211.24722290039062, 178.0457763671875, 174.15760803222656, 154.33514404296875, 143.82452392578125, 144.91273498535156, 160.53662109375, 128.0336151123047, 133.89248657226562, 119.28282165527344, 173.53585815429688, 121.19285583496094, 117.93929290771484, 165.0115966796875, 104.62364196777344, 102.77482604980469, 99.59286499023438, 102.58076477050781, 101.68599700927734, 105.95790100097656, 193.2952423095703, 126.84368896484375, 600.9063110351562, 627.0704345703125, 631.1380004882812, 480.25067138671875, 440.7403564453125, 450.2871398925781, 439.4507141113281, 326.30474853515625, 497.2112731933594, 421.9440612792969, 292.6569519042969, 242.41744995117188, 186.65341186523438, 175.67205810546875, 146.84548950195312, 148.4894256591797, 151.80311584472656, 135.83689880371094, 123.4706802368164, 121.43052673339844, 127.22010040283203, 125.8099594116211, 121.62908935546875, 130.7888946533203, 136.7892303466797, 126.91219329833984, 105.23950958251953, 105.72433471679688, 107.97112274169922, 104.25431823730469, 104.5602798461914, 500.9226379394531, 429.8305969238281, 125.8012924194336, 600.9063110351562, 10423.025390625, 3950.748291015625], \"loglift\": [30.0, 29.0, 28.0, 27.0, 26.0, 25.0, 24.0, 23.0, 22.0, 21.0, 20.0, 19.0, 18.0, 17.0, 16.0, 15.0, 14.0, 13.0, 12.0, 11.0, 10.0, 9.0, 8.0, 7.0, 6.0, 5.0, 4.0, 3.0, 2.0, 1.0, 1.0356999635696411, 1.0348999500274658, 1.0347000360488892, 1.0343999862670898, 1.0339000225067139, 1.0339000225067139, 1.0339000225067139, 1.0339000225067139, 1.0338000059127808, 1.0333000421524048, 1.0333000421524048, 1.0333000421524048, 1.0332000255584717, 1.0332000255584717, 1.0328999757766724, 1.032099962234497, 1.031999945640564, 1.031999945640564, 1.0319000482559204, 1.0319000482559204, 1.0318000316619873, 1.0317000150680542, 1.031499981880188, 1.0313999652862549, 1.0307999849319458, 1.0306999683380127, 1.0300999879837036, 1.0300999879837036, 1.0298999547958374, 1.0296000242233276, 1.0263999700546265, 1.0261000394821167, 0.9165999889373779, 0.9197999835014343, 0.8877000212669373, 0.857200026512146, 0.37369999289512634, 0.8481000065803528, -0.4740999937057495, 0.07519999891519547, 1.1720999479293823, 1.1714999675750732, 1.1711000204086304, 1.1710000038146973, 1.1710000038146973, 1.1708999872207642, 1.1704000234603882, 1.170199990272522, 1.1700999736785889, 1.169800043106079, 1.169700026512146, 1.1694999933242798, 1.1693999767303467, 1.1692999601364136, 1.1692999601364136, 1.1689000129699707, 1.1687999963760376, 1.1687999963760376, 1.1686999797821045, 1.1685999631881714, 1.1685999631881714, 1.1685999631881714, 1.1684999465942383, 1.1684999465942383, 1.1677000522613525, 1.1676000356674194, 1.1675000190734863, 1.1670000553131104, 1.1668000221252441, 1.1668000221252441, 1.1663999557495117, 1.1634999513626099, 1.1648999452590942, 0.9223999977111816, 0.1835000067949295, 0.3718999922275543, -0.9174000024795532, -1.0404000282287598, -0.6409000158309937, 1.7635999917984009, 1.7630000114440918, 1.7628999948501587, 1.7625999450683594, 1.7620999813079834, 1.7619999647140503, 1.7613999843597412, 1.761199951171875, 1.761199951171875, 1.761199951171875, 1.7611000537872314, 1.7609000205993652, 1.7608000040054321, 1.7604000568389893, 1.7597999572753906, 1.7597999572753906, 1.7595000267028809, 1.7595000267028809, 1.7592999935150146, 1.7590999603271484, 1.7589999437332153, 1.7589999437332153, 1.7588000297546387, 1.7582999467849731, 1.7582000494003296, 1.7582000494003296, 1.7580000162124634, 1.7577999830245972, 1.7577999830245972, 1.757699966430664, 1.7558000087738037, 1.5996999740600586, 0.3709000051021576, 1.8051999807357788, 1.8050999641418457, 1.804800033569336, 1.8047000169754028, 1.8047000169754028, 1.8046000003814697, 1.8039000034332275, 1.8039000034332275, 1.8039000034332275, 1.8037999868392944, 1.8033000230789185, 1.8020000457763672, 1.8020000457763672, 1.8013999462127686, 1.801300048828125, 1.8009999990463257, 1.8009999990463257, 1.8004000186920166, 1.8004000186920166, 1.8004000186920166, 1.8003000020980835, 1.8001999855041504, 1.7998000383377075, 1.7996000051498413, 1.7994999885559082, 1.7994999885559082, 1.799299955368042, 1.7992000579833984, 1.7992000579833984, 1.7991000413894653, 1.798200011253357, 1.7975000143051147, 1.7975000143051147, 1.5200999975204468, -0.38089999556541443, -0.3806000053882599], \"logprob\": [30.0, 29.0, 28.0, 27.0, 26.0, 25.0, 24.0, 23.0, 22.0, 21.0, 20.0, 19.0, 18.0, 17.0, 16.0, 15.0, 14.0, 13.0, 12.0, 11.0, 10.0, 9.0, 8.0, 7.0, 6.0, 5.0, 4.0, 3.0, 2.0, 1.0, -2.335900068283081, -4.068299770355225, -4.26609992980957, -4.474800109863281, -4.7505998611450195, -4.758800029754639, -4.756999969482422, -4.78439998626709, -4.82889986038208, -5.047399997711182, -5.0395002365112305, -5.020500183105469, -5.097700119018555, -5.0493998527526855, -5.189799785614014, -5.360199928283691, -5.452099800109863, -5.417300224304199, -5.469799995422363, -5.400599956512451, -5.541399955749512, -5.472400188446045, -5.5904998779296875, -5.505300045013428, -5.5381999015808105, -5.75540018081665, -5.822400093078613, -5.804900169372559, -5.904399871826172, -5.775400161743164, -4.8821001052856445, -5.470799922943115, -2.5329999923706055, -3.0392000675201416, -3.2163000106811523, -4.0883002281188965, -2.1059000492095947, -4.87060022354126, -4.3649001121521, -5.297999858856201, -2.375200033187866, -3.723099946975708, -4.28849983215332, -3.2446000576019287, -4.2829999923706055, -4.457099914550781, -4.722499847412109, -4.859499931335449, -4.931600093841553, -4.9710001945495605, -5.003200054168701, -5.170599937438965, -5.197500228881836, -5.222400188446045, -5.234000205993652, -5.32919979095459, -5.332900047302246, -5.394899845123291, -5.361499786376953, -5.414899826049805, -5.425099849700928, -5.421000003814697, -5.268899917602539, -5.4355998039245605, -5.687900066375732, -5.700500011444092, -5.676700115203857, -5.656300067901611, -5.845699787139893, -5.862800121307373, -5.752299785614014, -5.618899822235107, -5.731800079345703, -2.968400001525879, -2.2960000038146973, -5.001299858093262, -5.021399974822998, -4.9994001388549805, -5.58650016784668, -3.7841999530792236, -4.11460018157959, -4.1427001953125, -4.28380012512207, -4.2399001121521, -4.507999897003174, -4.6880998611450195, -4.720399856567383, -4.0447001457214355, -4.609300136566162, -4.617099761962891, -4.788300037384033, -4.810500144958496, -4.93179988861084, -5.002900123596191, -4.9953999519348145, -4.893199920654297, -5.119500160217285, -5.074999809265137, -5.190700054168701, -4.815899848937988, -5.174900054931641, -5.202300071716309, -4.867000102996826, -5.322700023651123, -5.34060001373291, -5.372200012207031, -5.342800140380859, -5.351600170135498, -5.3105998039245605, -4.711299896240234, -5.288700103759766, -4.961999893188477, -3.484999895095825, -3.478600025177002, -3.7520999908447266, -3.838099956512451, -3.816699981689453, -3.841200113296509, -4.139500141143799, -3.718400001525879, -3.882499933242798, -4.248499870300293, -4.437300205230713, -4.699999809265137, -4.760700225830078, -4.940499782562256, -4.929500102996826, -4.907700061798096, -5.018799781799316, -5.1149001121521, -5.131499767303467, -5.085000038146973, -5.096199989318848, -5.130099773406982, -5.0578999519348145, -5.013299942016602, -5.0883002281188965, -5.275599956512451, -5.271100044250488, -5.250199794769287, -5.285200119018555, -5.28249979019165, -3.7167000770568848, -3.8703999519348145, -5.098999977111816, -3.812700033187866, -2.8603999614715576, -3.830199956893921]}, \"token.table\": {\"Topic\": [4, 1, 1, 3, 1, 3, 2, 2, 1, 2, 4, 4, 1, 1, 2, 4, 1, 1, 2, 2, 2, 3, 3, 2, 3, 2, 2, 3, 3, 2, 4, 1, 1, 2, 1, 2, 1, 2, 4, 1, 1, 2, 4, 1, 2, 3, 4, 4, 4, 1, 4, 4, 3, 4, 1, 2, 4, 4, 4, 3, 4, 4, 2, 2, 2, 3, 3, 1, 3, 1, 4, 1, 3, 1, 1, 3, 2, 2, 3, 1, 2, 4, 4, 1, 4, 2, 4, 1, 3, 2, 2, 4, 2, 2, 3, 3, 1, 3, 1, 4, 3, 4, 4, 3, 4, 1, 1, 3, 1, 3, 2, 1, 2, 3, 2, 4, 1, 1, 4, 1, 1, 2, 2, 1, 4, 3, 4, 1, 2, 3, 4, 1, 2, 3, 4, 1, 2, 2, 2, 3, 1, 2, 2, 4, 3, 2, 2, 3, 1, 3, 3, 4, 4, 1, 4, 3, 1, 1, 1, 2, 3, 4, 4, 2, 3, 3, 2, 3, 2, 4], \"Freq\": [0.9982929825782776, 0.9977460503578186, 0.9980761408805847, 0.9986552596092224, 0.9958334565162659, 0.9940959215164185, 0.9969079494476318, 0.9979811906814575, 0.8624339699745178, 0.12369183450937271, 0.014122296124696732, 0.9982779622077942, 0.9927666187286377, 0.22073394060134888, 0.779060959815979, 0.9983202219009399, 0.99755859375, 0.9992201328277588, 0.9908443093299866, 0.9949988722801208, 0.005762497894465923, 0.9911496043205261, 0.9924609065055847, 0.9982508420944214, 0.9919270277023315, 0.9941457509994507, 0.9995556473731995, 0.9976289868354797, 0.998230516910553, 0.9983791708946228, 0.9942423105239868, 0.9964345693588257, 0.8360350131988525, 0.16268789768218994, 0.8905217051506042, 0.10952489823102951, 0.9967489242553711, 0.9978934526443481, 0.9938389658927917, 0.9968411326408386, 0.9945018887519836, 0.0020112174097448587, 0.9975638389587402, 0.001996316248551011, 0.00598894851282239, 0.001996316248551011, 0.992169201374054, 0.9946415424346924, 0.9939681887626648, 0.887679934501648, 0.11213065683841705, 0.9977626204490662, 0.9933531284332275, 0.9990660548210144, 0.9913585186004639, 0.005329884588718414, 0.9948278069496155, 0.997755229473114, 0.9935620427131653, 0.24795879423618317, 0.7505329847335815, 0.9931488633155823, 0.9957559108734131, 0.9968165755271912, 0.99941486120224, 0.9901573657989502, 0.9940471053123474, 0.9941064119338989, 0.9933342933654785, 0.9913851618766785, 0.008878076449036598, 0.9978893399238586, 0.9937014579772949, 0.9961583614349365, 0.002670729300007224, 0.9961820244789124, 0.9937020540237427, 0.9927635192871094, 0.007091167848557234, 0.5156852006912231, 0.3720608949661255, 0.11225147545337677, 0.9964993596076965, 0.9967312812805176, 0.997724175453186, 0.9993292689323425, 0.9973958134651184, 0.006060180254280567, 0.9938695430755615, 0.9914692640304565, 0.9988768696784973, 0.0006650311988778412, 0.9979039430618286, 0.9961639642715454, 0.9940391778945923, 0.993253767490387, 0.005173433106392622, 0.988125741481781, 0.9951805472373962, 0.9981968998908997, 0.997828483581543, 0.9947094917297363, 0.9910057187080383, 0.99848473072052, 0.9961879253387451, 0.9932586550712585, 0.9986100792884827, 0.9973902702331543, 0.998965322971344, 0.9941263794898987, 0.9992600679397583, 0.9960647821426392, 0.9973823428153992, 0.9920358061790466, 0.9987859129905701, 0.994230329990387, 0.9972257018089294, 0.9968538880348206, 0.9975606203079224, 0.9945138692855835, 0.9984151721000671, 0.9943549036979675, 0.9973036646842957, 0.9983801245689392, 0.9964545369148254, 0.9909595847129822, 0.9928123950958252, 0.0023264980409294367, 0.004652996081858873, 0.0023264980409294367, 0.9910881519317627, 0.3829151391983032, 0.44875577092170715, 0.03292030841112137, 0.13687917590141296, 0.9986969828605652, 0.9992636442184448, 0.9967058300971985, 0.9971943497657776, 0.9942671656608582, 0.9905040860176086, 0.9918416738510132, 0.9965901374816895, 0.9904095530509949, 0.9958372712135315, 0.9997047185897827, 0.9980019330978394, 0.9973739981651306, 0.9937379956245422, 0.9943384528160095, 0.9966573119163513, 0.9961743354797363, 0.9989743828773499, 0.9964942932128906, 0.9936304688453674, 0.9987355470657349, 0.9999361038208008, 0.9985913634300232, 0.8297398090362549, 0.06853308528661728, 0.10035201907157898, 0.002447610255330801, 0.9993622899055481, 0.9939239621162415, 0.9963112473487854, 0.9975564479827881, 0.1497906595468521, 0.8514416217803955, 0.9988247752189636, 0.9967039823532104], \"Term\": [\"airdrop\", \"altcoin\", \"altvaluex\", \"amp\", \"article\", \"atomic\", \"bank\", \"base\", \"bitcoin\", \"bitcoin\", \"bitcoin\", \"bitjob\", \"blockc\", \"blockchain\", \"blockchain\", \"blog\", \"bonus\", \"btc\", \"building\", \"business\", \"buy\", \"buy\", \"cap\", \"ceo\", \"change\", \"chat\", \"check\", \"coin\", \"come\", \"community\", \"could\", \"crowdsale\", \"crypto\", \"crypto\", \"cryptocurrency\", \"cryptocurrency\", \"day\", \"decentralize\", \"dollar\", \"dovu\", \"dovuapi\", \"eltc\", \"eltc\", \"eltcoin\", \"eltcoin\", \"eltcoin\", \"eltcoin\", \"employer\", \"ether\", \"ethereum\", \"ethereum\", \"ethlend\", \"everyone\", \"exchange\", \"expire\", \"expire\", \"exrp\", \"first\", \"follow\", \"free\", \"free\", \"freelancer\", \"future\", \"get\", \"go\", \"good\", \"grow\", \"gt\", \"guy\", \"hedge\", \"hedge\", \"hedgevalue\", \"hero\", \"horizonstate\", \"hour\", \"hour\", \"hst\", \"http\", \"http\", \"https\", \"https\", \"https\", \"increase\", \"index\", \"international\", \"interview\", \"introduce\", \"invest\", \"invest\", \"investor\", \"join\", \"join\", \"kapucoin\", \"know\", \"last\", \"late\", \"lend\", \"lend\", \"list\", \"litecoin\", \"live\", \"make\", \"mark\", \"market\", \"marketplace\", \"medium\", \"mobility\", \"new\", \"news\", \"next\", \"nologynology\", \"october\", \"official\", \"payment\", \"pbv\", \"perform\", \"platform\", \"plthwbgs\", \"post\", \"pre\", \"project\", \"protect\", \"provide\", \"read\", \"replace\", \"retweet\", \"review\", \"rjbbt\", \"rjbbt\", \"rjbbt\", \"rjbbt\", \"rt\", \"rt\", \"rt\", \"rt\", \"sale\", \"security\", \"service\", \"site\", \"soon\", \"start\", \"startup\", \"steem\", \"student\", \"swap\", \"tech\", \"telegram\", \"thank\", \"tip\", \"today\", \"top\", \"trend\", \"upcoming\", \"update\", \"urgency\", \"usd\", \"value\", \"valueale\", \"valuealehedge\", \"valuealehedge\", \"valuealehedge\", \"valuealehedge\", \"valueiz\", \"video\", \"wallet\", \"week\", \"well\", \"well\", \"work\", \"world\"]}, \"R\": 30, \"lambda.step\": 0.01, \"plot.opts\": {\"xlab\": \"PC1\", \"ylab\": \"PC2\"}, \"topic.order\": [2, 1, 4, 3]};\n",
       "\n",
       "function LDAvis_load_lib(url, callback){\n",
       "  var s = document.createElement('script');\n",
       "  s.src = url;\n",
       "  s.async = true;\n",
       "  s.onreadystatechange = s.onload = callback;\n",
       "  s.onerror = function(){console.warn(\"failed to load library \" + url);};\n",
       "  document.getElementsByTagName(\"head\")[0].appendChild(s);\n",
       "}\n",
       "\n",
       "if(typeof(LDAvis) !== \"undefined\"){\n",
       "   // already loaded: just create the visualization\n",
       "   !function(LDAvis){\n",
       "       new LDAvis(\"#\" + \"ldavis_el1043619402323043444958183084\", ldavis_el1043619402323043444958183084_data);\n",
       "   }(LDAvis);\n",
       "}else if(typeof define === \"function\" && define.amd){\n",
       "   // require.js is available: use it to load d3/LDAvis\n",
       "   require.config({paths: {d3: \"https://cdnjs.cloudflare.com/ajax/libs/d3/3.5.5/d3.min\"}});\n",
       "   require([\"d3\"], function(d3){\n",
       "      window.d3 = d3;\n",
       "      LDAvis_load_lib(\"https://cdn.rawgit.com/bmabey/pyLDAvis/files/ldavis.v1.0.0.js\", function(){\n",
       "        new LDAvis(\"#\" + \"ldavis_el1043619402323043444958183084\", ldavis_el1043619402323043444958183084_data);\n",
       "      });\n",
       "    });\n",
       "}else{\n",
       "    // require.js not available: dynamically load d3 & LDAvis\n",
       "    LDAvis_load_lib(\"https://cdnjs.cloudflare.com/ajax/libs/d3/3.5.5/d3.min.js\", function(){\n",
       "         LDAvis_load_lib(\"https://cdn.rawgit.com/bmabey/pyLDAvis/files/ldavis.v1.0.0.js\", function(){\n",
       "                 new LDAvis(\"#\" + \"ldavis_el1043619402323043444958183084\", ldavis_el1043619402323043444958183084_data);\n",
       "            })\n",
       "         });\n",
       "}\n",
       "</script>"
      ],
      "text/plain": [
       "PreparedData(topic_coordinates=              x         y  topics  cluster       Freq\n",
       "topic                                                \n",
       "1      0.197146 -0.087692       1        1  35.492088\n",
       "0      0.098308 -0.135932       2        1  30.966743\n",
       "3     -0.320056 -0.072970       3        1  17.116837\n",
       "2      0.024602  0.296594       4        1  16.424328, topic_info=     Category          Freq            Term         Total  loglift  logprob\n",
       "term                                                                       \n",
       "11    Default   4271.000000           value   4271.000000  30.0000  30.0000\n",
       "45    Default   3583.000000            tech   3583.000000  29.0000  29.0000\n",
       "33    Default   3950.000000        ethereum   3950.000000  28.0000  28.0000\n",
       "5     Default  10423.000000           https  10423.000000  27.0000  27.0000\n",
       "104   Default   1503.000000            join   1503.000000  26.0000  26.0000\n",
       "2     Default   2541.000000      blockchain   2541.000000  25.0000  25.0000\n",
       "32    Default   2373.000000  cryptocurrency   2373.000000  24.0000  24.0000\n",
       "97    Default    631.000000        litecoin    631.000000  23.0000  23.0000\n",
       "1046  Default    627.000000         airdrop    627.000000  22.0000  22.0000\n",
       "1     Default   2053.000000         bitcoin   2053.000000  21.0000  21.0000\n",
       "167   Default    931.000000           check    931.000000  20.0000  20.0000\n",
       "1713  Default    497.000000            eltc    497.000000  19.0000  19.0000\n",
       "1714  Default    500.000000         eltcoin    500.000000  18.0000  18.0000\n",
       "439   Default    480.000000       introduce    480.000000  17.0000  17.0000\n",
       "146   Default    484.000000             amp    484.000000  16.0000  16.0000\n",
       "1717  Default    450.000000         valueiz    450.000000  15.0000  15.0000\n",
       "947   Default    440.000000            blog    440.000000  14.0000  14.0000\n",
       "359   Default    439.000000        upcoming    439.000000  13.0000  13.0000\n",
       "1186  Default    756.000000        valueale    756.000000  12.0000  12.0000\n",
       "4786  Default    429.000000           rjbbt    429.000000  11.0000  11.0000\n",
       "5065  Default    421.000000         ethlend    421.000000  10.0000  10.0000\n",
       "445   Default    600.000000            free    600.000000   9.0000   9.0000\n",
       "464   Default    374.000000            hour    374.000000   8.0000   8.0000\n",
       "29    Default    620.000000             btc    620.000000   7.0000   7.0000\n",
       "153   Default    532.000000              go    532.000000   6.0000   6.0000\n",
       "133   Default    529.000000    nologynology    529.000000   5.0000   5.0000\n",
       "469   Default    348.000000          market    348.000000   4.0000   4.0000\n",
       "214   Default    338.000000             new    338.000000   3.0000   3.0000\n",
       "181   Default    326.000000        exchange    326.000000   2.0000   2.0000\n",
       "68    Default    307.000000            week    307.000000   1.0000   1.0000\n",
       "...       ...           ...             ...           ...      ...      ...\n",
       "181    Topic4    325.502289        exchange    326.304749   1.8039  -4.1395\n",
       "1713   Topic4    495.961517            eltc    497.211273   1.8039  -3.7184\n",
       "5065   Topic4    420.875519         ethlend    421.944061   1.8039  -3.8825\n",
       "589    Topic4    291.891449           first    292.656952   1.8038  -4.2485\n",
       "504    Topic4    241.670441          bitjob    242.417450   1.8033  -4.4373\n",
       "602    Topic4    185.836975        increase    186.653412   1.8020  -4.7000\n",
       "719    Topic4    174.899536           trend    175.672058   1.8020  -4.7607\n",
       "204    Topic4    146.116699           could    146.845490   1.8014  -4.9405\n",
       "190    Topic4    147.728668           world    148.489426   1.8013  -4.9295\n",
       "184    Topic4    150.990326            make    151.803116   1.8010  -4.9077\n",
       "205    Topic4    135.105499          dollar    135.836899   1.8010  -5.0188\n",
       "509    Topic4    122.731430     marketplace    123.470680   1.8004  -5.1149\n",
       "99     Topic4    120.703056         replace    121.430527   1.8004  -5.1315\n",
       "511    Topic4    126.455711         student    127.220100   1.8004  -5.0850\n",
       "1264   Topic4    125.049568          follow    125.809959   1.8003  -5.0962\n",
       "8147   Topic4    120.878944            exrp    121.629089   1.8002  -5.1301\n",
       "2016   Topic4    129.923569           ether    130.788895   1.7998  -5.0579\n",
       "853    Topic4    135.855804         perform    136.789230   1.7996  -5.0133\n",
       "189    Topic4    126.036079          review    126.912193   1.7995  -5.0883\n",
       "2442   Topic4    104.511681   international    105.239510   1.7995  -5.2756\n",
       "507    Topic4    104.978615      freelancer    105.724335   1.7993  -5.2711\n",
       "300    Topic4    107.199951            mark    107.971123   1.7992  -5.2502\n",
       "1304   Topic4    103.507660            post    104.254318   1.7992  -5.2852\n",
       "506    Topic4    103.794029        employer    104.560280   1.7991  -5.2825\n",
       "1714   Topic4    496.815186         eltcoin    500.922638   1.7982  -3.7167\n",
       "4786   Topic4    426.031738           rjbbt    429.830597   1.7975  -3.8704\n",
       "720    Topic4    124.690247         urgency    125.801292   1.7975  -5.0990\n",
       "445    Topic4    451.316589            free    600.906311   1.5201  -3.8127\n",
       "5      Topic4   1169.715454           https  10423.025391  -0.3809  -2.8604\n",
       "33     Topic4    443.480133        ethereum   3950.748291  -0.3806  -3.8302\n",
       "\n",
       "[178 rows x 6 columns], token_table=       Topic      Freq           Term\n",
       "term                                 \n",
       "1046       4  0.998293        airdrop\n",
       "28         1  0.997746        altcoin\n",
       "102        1  0.998076      altvaluex\n",
       "146        3  0.998655            amp\n",
       "658        1  0.995833        article\n",
       "2049       3  0.994096         atomic\n",
       "215        2  0.996908           bank\n",
       "334        2  0.997981           base\n",
       "1          1  0.862434        bitcoin\n",
       "1          2  0.123692        bitcoin\n",
       "1          4  0.014122        bitcoin\n",
       "504        4  0.998278         bitjob\n",
       "421        1  0.992767         blockc\n",
       "2          1  0.220734     blockchain\n",
       "2          2  0.779061     blockchain\n",
       "947        4  0.998320           blog\n",
       "282        1  0.997559          bonus\n",
       "29         1  0.999220            btc\n",
       "400        2  0.990844       building\n",
       "991        2  0.994999       business\n",
       "385        2  0.005762            buy\n",
       "385        3  0.991150            buy\n",
       "474        3  0.992461            cap\n",
       "216        2  0.998251            ceo\n",
       "37         3  0.991927         change\n",
       "270        2  0.994146           chat\n",
       "167        2  0.999556          check\n",
       "632        3  0.997629           coin\n",
       "327        3  0.998231           come\n",
       "409        2  0.998379      community\n",
       "...      ...       ...            ...\n",
       "15         1  0.990504          start\n",
       "336        2  0.991842        startup\n",
       "170        2  0.996590          steem\n",
       "511        4  0.990410        student\n",
       "2051       3  0.995837           swap\n",
       "45         2  0.999705           tech\n",
       "276        2  0.998002       telegram\n",
       "789        3  0.997374          thank\n",
       "773        1  0.993738            tip\n",
       "413        3  0.994338          today\n",
       "1023       3  0.996657            top\n",
       "719        4  0.996174          trend\n",
       "359        4  0.998974       upcoming\n",
       "1185       1  0.996494         update\n",
       "720        4  0.993630        urgency\n",
       "127        3  0.998736            usd\n",
       "11         1  0.999936          value\n",
       "1186       1  0.998591       valueale\n",
       "13208      1  0.829740  valuealehedge\n",
       "13208      2  0.068533  valuealehedge\n",
       "13208      3  0.100352  valuealehedge\n",
       "13208      4  0.002448  valuealehedge\n",
       "1717       4  0.999362        valueiz\n",
       "116        2  0.993924          video\n",
       "836        3  0.996311         wallet\n",
       "68         3  0.997556           week\n",
       "1761       2  0.149791           well\n",
       "1761       3  0.851442           well\n",
       "243        2  0.998825           work\n",
       "190        4  0.996704          world\n",
       "\n",
       "[170 rows x 3 columns], R=30, lambda_step=0.01, plot_opts={'xlab': 'PC1', 'ylab': 'PC2'}, topic_order=[2, 1, 4, 3])"
      ]
     },
     "execution_count": 28,
     "metadata": {},
     "output_type": "execute_result"
    }
   ],
   "source": [
    "# Visualize the topics\n",
    "pyLDAvis.enable_notebook()\n",
    "vis = pyLDAvis.gensim.prepare(lda_model, corpus, id2word)\n",
    "vis"
   ]
  },
  {
   "cell_type": "code",
   "execution_count": 39,
   "metadata": {},
   "outputs": [
    {
     "data": {
      "image/png": "[encoded data removed]",
      "text/plain": [
       "<Figure size 432x288 with 1 Axes>"
      ]
     },
     "metadata": {},
     "output_type": "display_data"
    }
   ],
   "source": [
    "#Coherence values for Noun model\n",
    "model_list, coherence_values_noun = compute_coherence_values(dictionary=id2word_noun, corpus=corpus_noun, texts=data_lemmatized_noun, start=1, limit=6, step=1)\n",
    "# Show graph\n",
    "import matplotlib.pyplot as plt\n",
    "limit=6; start=1; step=1;\n",
    "x = range(start, limit, step)\n",
    "plt.plot(x, coherence_values_noun)\n",
    "plt.xlabel(\"Num Topics\")\n",
    "plt.ylabel(\"Coherence score\")\n",
    "plt.legend((\"coherence_values\"), loc='best')\n",
    "plt.show()"
   ]
  },
  {
   "cell_type": "code",
   "execution_count": 32,
   "metadata": {},
   "outputs": [],
   "source": [
    "#Building the Topic Model\n",
    "# Build LDA model for noun with 4 number of topics\n",
    "#Number of topics has been selected based on coherence score plot. \n",
    "lda_model_noun = gensim.models.ldamodel.LdaModel(corpus=corpus_noun,\n",
    "                                           id2word=id2word_noun,\n",
    "                                           num_topics=4, \n",
    "                                           random_state=100,\n",
    "                                           update_every=1,\n",
    "                                           chunksize=100,\n",
    "                                           passes=20,\n",
    "                                           alpha='auto',\n",
    "                                           per_word_topics=True)"
   ]
  },
  {
   "cell_type": "code",
   "execution_count": 33,
   "metadata": {},
   "outputs": [
    {
     "name": "stderr",
     "output_type": "stream",
     "text": [
      "C:\\Omkar\\python36\\lib\\site-packages\\pyLDAvis\\_prepare.py:257: FutureWarning: Sorting because non-concatenation axis is not aligned. A future version\n",
      "of pandas will change to not sort by default.\n",
      "\n",
      "To accept the future behavior, pass 'sort=True'.\n",
      "\n",
      "To retain the current behavior and silence the warning, pass sort=False\n",
      "\n",
      "  return pd.concat([default_term_info] + list(topic_dfs))\n"
     ]
    },
    {
     "data": {
      "text/html": [
       "\n",
       "<link rel=\"stylesheet\" type=\"text/css\" href=\"https://cdn.rawgit.com/bmabey/pyLDAvis/files/ldavis.v1.0.0.css\">\n",
       "\n",
       "\n",
       "<div id=\"ldavis_el1043619402356340327767899315\"></div>\n",
       "<script type=\"text/javascript\">\n",
       "\n",
       "var ldavis_el1043619402356340327767899315_data = {\"mdsDat\": {\"x\": [0.3485616562927591, -0.10698208723945926, -0.13079906070454972, -0.11078050834874997], \"y\": [-0.011266186307020464, 0.2633711979505535, -0.20853854032243468, -0.04356647132109847], \"topics\": [1, 2, 3, 4], \"cluster\": [1, 1, 1, 1], \"Freq\": [52.606285095214844, 17.484237670898438, 16.868867874145508, 13.040606498718262]}, \"tinfo\": {\"Category\": [\"Default\", \"Default\", \"Default\", \"Default\", \"Default\", \"Default\", \"Default\", \"Default\", \"Default\", \"Default\", \"Default\", \"Default\", \"Default\", \"Default\", \"Default\", \"Default\", \"Default\", \"Default\", \"Default\", \"Default\", \"Default\", \"Default\", \"Default\", \"Default\", \"Default\", \"Default\", \"Default\", \"Default\", \"Default\", \"Default\", \"Topic1\", \"Topic1\", \"Topic1\", \"Topic1\", \"Topic1\", \"Topic1\", \"Topic1\", \"Topic1\", \"Topic1\", \"Topic1\", \"Topic1\", \"Topic1\", \"Topic1\", \"Topic1\", \"Topic1\", \"Topic1\", \"Topic1\", \"Topic1\", \"Topic1\", \"Topic1\", \"Topic1\", \"Topic1\", \"Topic1\", \"Topic1\", \"Topic1\", \"Topic1\", \"Topic1\", \"Topic1\", \"Topic1\", \"Topic1\", \"Topic1\", \"Topic1\", \"Topic1\", \"Topic2\", \"Topic2\", \"Topic2\", \"Topic2\", \"Topic2\", \"Topic2\", \"Topic2\", \"Topic2\", \"Topic2\", \"Topic2\", \"Topic2\", \"Topic2\", \"Topic2\", \"Topic2\", \"Topic2\", \"Topic2\", \"Topic2\", \"Topic2\", \"Topic2\", \"Topic2\", \"Topic2\", \"Topic2\", \"Topic2\", \"Topic2\", \"Topic2\", \"Topic2\", \"Topic2\", \"Topic2\", \"Topic2\", \"Topic2\", \"Topic2\", \"Topic2\", \"Topic2\", \"Topic2\", \"Topic2\", \"Topic2\", \"Topic3\", \"Topic3\", \"Topic3\", \"Topic3\", \"Topic3\", \"Topic3\", \"Topic3\", \"Topic3\", \"Topic3\", \"Topic3\", \"Topic3\", \"Topic3\", \"Topic3\", \"Topic3\", \"Topic3\", \"Topic3\", \"Topic3\", \"Topic3\", \"Topic3\", \"Topic3\", \"Topic3\", \"Topic3\", \"Topic3\", \"Topic3\", \"Topic3\", \"Topic3\", \"Topic3\", \"Topic3\", \"Topic3\", \"Topic3\", \"Topic3\", \"Topic4\", \"Topic4\", \"Topic4\", \"Topic4\", \"Topic4\", \"Topic4\", \"Topic4\", \"Topic4\", \"Topic4\", \"Topic4\", \"Topic4\", \"Topic4\", \"Topic4\", \"Topic4\", \"Topic4\", \"Topic4\", \"Topic4\", \"Topic4\", \"Topic4\", \"Topic4\", \"Topic4\", \"Topic4\", \"Topic4\", \"Topic4\", \"Topic4\", \"Topic4\", \"Topic4\", \"Topic4\", \"Topic4\", \"Topic4\", \"Topic4\", \"Topic4\", \"Topic4\", \"Topic4\", \"Topic4\", \"Topic4\", \"Topic4\"], \"Freq\": [5064.0, 4296.0, 3483.0, 2723.0, 2702.0, 2215.0, 2017.0, 706.0, 700.0, 545.0, 545.0, 496.0, 383.0, 389.0, 384.0, 480.0, 311.0, 362.0, 339.0, 341.0, 841.0, 293.0, 293.0, 282.0, 281.0, 264.0, 728.0, 250.0, 600.0, 578.0, 5064.01806640625, 4296.26025390625, 3482.45458984375, 2723.197265625, 2701.91845703125, 2214.553466796875, 2016.995849609375, 840.8908081054688, 728.310302734375, 578.02783203125, 599.509765625, 497.91412353515625, 456.1044006347656, 502.94940185546875, 394.4717712402344, 374.7919006347656, 247.45718383789062, 220.48501586914062, 249.2033233642578, 211.319580078125, 239.32122802734375, 214.1305694580078, 186.8460235595703, 180.03636169433594, 154.78146362304688, 149.40989685058594, 207.39988708496094, 146.3961944580078, 139.3062744140625, 129.08448791503906, 129.5590057373047, 407.9469299316406, 336.3579406738281, 699.4067993164062, 361.8132019042969, 292.6612243652344, 292.94366455078125, 280.9395751953125, 282.1197509765625, 543.3627319335938, 263.3877868652344, 197.0699920654297, 187.27346801757812, 155.49424743652344, 139.32485961914062, 131.65960693359375, 138.62721252441406, 124.24929809570312, 112.47651672363281, 127.03514862060547, 136.73641967773438, 98.34124755859375, 90.9460220336914, 85.1949691772461, 84.75508117675781, 84.35736083984375, 82.81243896484375, 69.73045349121094, 69.73045349121094, 78.88356018066406, 69.36922454833984, 62.139530181884766, 63.32633972167969, 536.20166015625, 70.59935760498047, 429.8482666015625, 86.26305389404297, 104.33490753173828, 114.74325561523438, 705.3024291992188, 495.5938720703125, 383.46319580078125, 388.6903076171875, 338.8584899902344, 249.73699951171875, 192.2455291748047, 197.19239807128906, 340.34710693359375, 163.05972290039062, 152.23997497558594, 176.6092987060547, 134.22581481933594, 112.90055847167969, 112.15094757080078, 110.38656616210938, 99.50010681152344, 104.08985137939453, 93.19657135009766, 94.36715698242188, 89.45489501953125, 90.84056091308594, 90.39402770996094, 91.97366333007812, 167.52024841308594, 85.67158508300781, 80.3338394165039, 83.58162689208984, 80.90450286865234, 72.72355651855469, 88.57743835449219, 382.2982177734375, 310.6649169921875, 175.19290161132812, 145.4458465576172, 150.3685302734375, 154.5736846923828, 153.26390075683594, 146.9722900390625, 126.82025909423828, 124.44489288330078, 121.4456787109375, 123.0340576171875, 113.156982421875, 104.21087646484375, 97.54936218261719, 87.88794708251953, 83.98007202148438, 90.22454833984375, 94.65946197509766, 66.70084381103516, 64.79237365722656, 65.88177490234375, 59.796016693115234, 62.71055603027344, 59.237674713134766, 60.65546417236328, 52.97661590576172, 51.28444290161133, 49.20357131958008, 46.56315231323242, 58.0107307434082, 122.25180053710938, 84.23387145996094, 56.83487319946289, 60.215641021728516, 77.43849182128906, 66.90861511230469], \"Term\": [\"value\", \"ethereum\", \"https\", \"tech\", \"cryptocurrency\", \"bitcoin\", \"blockchain\", \"airdrop\", \"litecoin\", \"eltc\", \"eltcoin\", \"blog\", \"hour\", \"sale\", \"platform\", \"rjbbt\", \"article\", \"exchange\", \"nologynology\", \"hedge\", \"valueale\", \"week\", \"security\", \"bonus\", \"usd\", \"min\", \"btc\", \"day\", \"project\", \"check\", \"value\", \"ethereum\", \"https\", \"tech\", \"cryptocurrency\", \"bitcoin\", \"blockchain\", \"valueale\", \"btc\", \"check\", \"project\", \"amp\", \"news\", \"ethlend\", \"market\", \"altcoin\", \"swap\", \"horizonstate\", \"mobility\", \"telegram\", \"dovuapi\", \"blockc\", \"interview\", \"work\", \"crowdsale\", \"state\", \"plthwbgs\", \"bank\", \"eth\", \"ceo\", \"chat\", \"rt\", \"valuealehedge\", \"litecoin\", \"exchange\", \"security\", \"week\", \"usd\", \"bonus\", \"eltc\", \"min\", \"october\", \"wallet\", \"world\", \"kapucoin\", \"business\", \"review\", \"founder\", \"site\", \"guy\", \"tip\", \"today\", \"money\", \"buy\", \"valuation\", \"warning\", \"startup\", \"pbv\", \"kaputec\", \"hst\", \"ltc\", \"soar\", \"pm\", \"eltcoin\", \"rsvp\", \"rjbbt\", \"openmoneyvalue\", \"section\", \"rt\", \"airdrop\", \"blog\", \"platform\", \"sale\", \"nologynology\", \"day\", \"pre\", \"crypto\", \"hedge\", \"community\", \"dollar\", \"trend\", \"gt\", \"payment\", \"update\", \"video\", \"cointelegraph\", \"message\", \"imf\", \"fork\", \"fund\", \"fee\", \"system\", \"post\", \"everyone\", \"network\", \"thank\", \"oct\", \"ebtc\", \"cofounder\", \"boprhpepv\", \"hour\", \"article\", \"index\", \"marketplace\", \"student\", \"ether\", \"jamieskella\", \"hero\", \"mark\", \"freelancer\", \"coin\", \"employer\", \"service\", \"cap\", \"time\", \"bitjob\", \"investor\", \"http\", \"click\", \"china\", \"winner\", \"upgrade\", \"wall\", \"forbe\", \"street\", \"month\", \"briandevan\", \"love\", \"trezor\", \"contest\", \"implication\", \"reuter\", \"hope\", \"gglyzmyf\", \"esport\", \"herocoinio\", \"valuealehedge\"], \"Total\": [5064.0, 4296.0, 3483.0, 2723.0, 2702.0, 2215.0, 2017.0, 706.0, 700.0, 545.0, 545.0, 496.0, 383.0, 389.0, 384.0, 480.0, 311.0, 362.0, 339.0, 341.0, 841.0, 293.0, 293.0, 282.0, 281.0, 264.0, 728.0, 250.0, 600.0, 578.0, 5064.67041015625, 4296.9375, 3483.11767578125, 2723.83447265625, 2702.560546875, 2215.198486328125, 2017.6307373046875, 841.5458374023438, 728.958984375, 578.6697998046875, 600.1773681640625, 498.58197021484375, 456.7507019042969, 503.75653076171875, 395.1175231933594, 375.4258728027344, 248.1154327392578, 221.14569091796875, 249.95631408691406, 211.96775817871094, 240.12991333007812, 214.8590850830078, 187.52230834960938, 180.69935607910156, 155.4209747314453, 150.03961181640625, 208.27426147460938, 147.05838012695312, 139.97044372558594, 129.71389770507812, 130.2196807861328, 523.1329345703125, 455.268798828125, 700.1002197265625, 362.5230407714844, 293.34527587890625, 293.6623229980469, 281.6331787109375, 282.86151123046875, 545.0140380859375, 264.2041015625, 197.77203369140625, 188.01202392578125, 156.18923950195312, 139.98696899414062, 132.36155700683594, 139.3692169189453, 124.97239685058594, 113.14639282226562, 127.7972183227539, 137.5738525390625, 99.0310287475586, 91.61134338378906, 85.86284637451172, 85.41967010498047, 85.02625274658203, 83.48688507080078, 70.392578125, 70.392578125, 79.64124298095703, 70.040283203125, 62.80355453491211, 64.0239486694336, 545.3689575195312, 71.49276733398438, 480.889404296875, 99.40116119384766, 138.00186157226562, 523.1329345703125, 706.1008911132812, 496.4681701660156, 384.153564453125, 389.4360046386719, 339.52716064453125, 250.44078063964844, 192.92430114746094, 197.91030883789062, 341.6044616699219, 163.73764038085938, 152.92117309570312, 177.4029998779297, 134.9066925048828, 113.58161926269531, 112.83131408691406, 111.06124877929688, 100.16026306152344, 104.80228424072266, 93.87210845947266, 95.06655883789062, 90.12366485595703, 91.52122497558594, 91.0938491821289, 92.68684387207031, 168.8647003173828, 86.36418151855469, 81.02782440185547, 84.31139373779297, 81.63507080078125, 73.38990783691406, 96.85974884033203, 383.0875549316406, 311.4532165527344, 175.86465454101562, 146.11544799804688, 151.06849670410156, 155.30349731445312, 154.00680541992188, 147.6898956298828, 127.4736557006836, 125.12371063232422, 122.11760711669922, 123.74605560302734, 113.88927459716797, 104.8955307006836, 98.2155990600586, 88.55632781982422, 84.63290405273438, 90.93760681152344, 95.42269134521484, 67.35546112060547, 65.45381164550781, 66.56005096435547, 60.45063781738281, 63.404624938964844, 59.893646240234375, 61.33470916748047, 53.6330451965332, 51.940223693847656, 49.87972640991211, 47.216819763183594, 58.913543701171875, 125.79566955566406, 87.65618896484375, 58.059234619140625, 62.52587127685547, 89.1009292602539, 455.268798828125], \"loglift\": [30.0, 29.0, 28.0, 27.0, 26.0, 25.0, 24.0, 23.0, 22.0, 21.0, 20.0, 19.0, 18.0, 17.0, 16.0, 15.0, 14.0, 13.0, 12.0, 11.0, 10.0, 9.0, 8.0, 7.0, 6.0, 5.0, 4.0, 3.0, 2.0, 1.0, 0.6421999931335449, 0.6421999931335449, 0.6420999765396118, 0.6420999765396118, 0.6420999765396118, 0.6420000195503235, 0.6420000195503235, 0.6416000127792358, 0.6413999795913696, 0.6412000060081482, 0.6412000060081482, 0.640999972820282, 0.6409000158309937, 0.6406999826431274, 0.6406999826431274, 0.6406000256538391, 0.6396999955177307, 0.6392999887466431, 0.6392999887466431, 0.6392999887466431, 0.6389999985694885, 0.6388999819755554, 0.638700008392334, 0.638700008392334, 0.6381999850273132, 0.6381000280380249, 0.6381000280380249, 0.6377999782562256, 0.6376000046730042, 0.637499988079071, 0.6371999979019165, 0.3935999870300293, 0.33959999680519104, 1.742900013923645, 1.7418999671936035, 1.7415000200271606, 1.7414000034332275, 1.7414000034332275, 1.7411999702453613, 1.7408000230789185, 1.7408000230789185, 1.7403000593185425, 1.73989999294281, 1.739400029182434, 1.7390999794006348, 1.7386000156402588, 1.7384999990463257, 1.7381000518798828, 1.7379000186920166, 1.7379000186920166, 1.7378000020980835, 1.736899971961975, 1.7366000413894653, 1.7360999584197998, 1.7360999584197998, 1.7359999418258667, 1.73580002784729, 1.7344000339508057, 1.7344000339508057, 1.7343000173568726, 1.7342000007629395, 1.733199954032898, 1.7329000234603882, 1.7268999814987183, 1.7312999963760376, 1.631700038909912, 1.6021000146865845, 1.4642000198364258, 0.22669999301433563, 1.7785999774932861, 1.777899980545044, 1.777899980545044, 1.7777999639511108, 1.7776999473571777, 1.776900053024292, 1.7762000560760498, 1.7761000394821167, 1.7760000228881836, 1.7755999565124512, 1.7752000093460083, 1.7752000093460083, 1.7746000289916992, 1.7736999988555908, 1.7736999988555908, 1.7735999822616577, 1.7731000185012817, 1.7728999853134155, 1.7725000381469727, 1.7723000049591064, 1.7723000049591064, 1.7721999883651733, 1.7719999551773071, 1.7719999551773071, 1.7717000246047974, 1.7716000080108643, 1.7711000442504883, 1.7710000276565552, 1.7706999778747559, 1.7705999612808228, 1.6902999877929688, 2.0350000858306885, 2.034600019454956, 2.0332999229431152, 2.0325000286102295, 2.0325000286102295, 2.032399892807007, 2.0322999954223633, 2.0322000980377197, 2.0320000648498535, 2.0316998958587646, 2.031599998474121, 2.0313000679016113, 2.0306999683380127, 2.030600070953369, 2.0302999019622803, 2.0295000076293945, 2.029400110244751, 2.0292000770568848, 2.029099941253662, 2.0272998809814453, 2.026900053024292, 2.026900053024292, 2.02620005607605, 2.026099920272827, 2.026099920272827, 2.0260000228881836, 2.0248000621795654, 2.024399995803833, 2.0234999656677246, 2.023200035095215, 2.021699905395508, 2.008500099182129, 1.9973000288009644, 2.0157999992370605, 1.999500036239624, 1.8968000411987305, 0.11949999630451202], \"logprob\": [30.0, 29.0, 28.0, 27.0, 26.0, 25.0, 24.0, 23.0, 22.0, 21.0, 20.0, 19.0, 18.0, 17.0, 16.0, 15.0, 14.0, 13.0, 12.0, 11.0, 10.0, 9.0, 8.0, 7.0, 6.0, 5.0, 4.0, 3.0, 2.0, 1.0, -2.157099962234497, -2.321500062942505, -2.531599998474121, -2.7774999141693115, -2.7853000164031982, -2.9842000007629395, -3.077699899673462, -3.9526000022888184, -4.09630012512207, -4.327400207519531, -4.290900230407715, -4.476600170135498, -4.564300060272217, -4.466599941253662, -4.709499835968018, -4.760700225830078, -5.17579984664917, -5.291200160980225, -5.168799877166748, -5.333700180053711, -5.209199905395508, -5.320499897003174, -5.4567999839782715, -5.493899822235107, -5.644999980926514, -5.6803998947143555, -5.352399826049805, -5.700699806213379, -5.750400066375732, -5.826600074768066, -5.82289981842041, -4.675899982452393, -4.868899822235107, -3.0353000164031982, -3.6944000720977783, -3.9065001010894775, -3.9054999351501465, -3.9474000930786133, -3.94320011138916, -3.2876999378204346, -4.011899948120117, -4.302000045776367, -4.35290002822876, -4.538899898529053, -4.64870023727417, -4.7052998542785645, -4.65369987487793, -4.763199806213379, -4.862800121307373, -4.741000175476074, -4.667500019073486, -4.997099876403809, -5.075200080871582, -5.140600204467773, -5.145699977874756, -5.1504998207092285, -5.168900012969971, -5.34089994430542, -5.34089994430542, -5.21750020980835, -5.346099853515625, -5.456099987030029, -5.43720006942749, -3.3010001182556152, -5.328499794006348, -3.5220999717712402, -5.1280999183654785, -4.937900066375732, -4.842800140380859, -2.9911000728607178, -3.343899965286255, -3.600399971008301, -3.586899995803833, -3.724100112915039, -4.029300212860107, -4.290900230407715, -4.265500068664551, -3.7197000980377197, -4.455599784851074, -4.524199962615967, -4.375699996948242, -4.650199890136719, -4.823200225830078, -4.829800128936768, -4.845699787139893, -4.94950008392334, -4.904399871826172, -5.014999866485596, -5.002500057220459, -5.0559000968933105, -5.040599822998047, -5.045499801635742, -5.028200149536133, -4.428599834442139, -5.0991997718811035, -5.16349983215332, -5.123899936676025, -5.156400203704834, -5.263000011444092, -5.065800189971924, -3.346100091934204, -3.5536000728607178, -4.126399993896484, -4.3125, -4.279200077056885, -4.2515997886657715, -4.2600998878479, -4.302000045776367, -4.44950008392334, -4.468400001525879, -4.492800235748291, -4.479800224304199, -4.563499927520752, -4.645899772644043, -4.711900234222412, -4.816199779510498, -4.861700057983398, -4.789999961853027, -4.742000102996826, -5.092100143432617, -5.121099948883057, -5.104400157928467, -5.201300144195557, -5.153800010681152, -5.210700035095215, -5.187099933624268, -5.322400093078613, -5.354899883270264, -5.396299839019775, -5.451499938964844, -5.2316999435424805, -4.486199855804443, -4.858699798583984, -5.252099990844727, -5.194300174713135, -4.942800045013428, -5.089000225067139]}, \"token.table\": {\"Topic\": [3, 1, 1, 4, 1, 1, 4, 1, 1, 3, 2, 1, 3, 4, 1, 2, 2, 4, 1, 1, 1, 4, 4, 3, 4, 3, 3, 4, 1, 3, 1, 3, 3, 1, 3, 1, 2, 3, 1, 2, 3, 4, 1, 4, 1, 4, 1, 1, 3, 4, 2, 3, 4, 3, 2, 4, 3, 1, 4, 3, 2, 3, 4, 4, 1, 3, 4, 1, 2, 4, 1, 4, 2, 4, 1, 3, 4, 4, 1, 4, 4, 2, 2, 2, 4, 2, 4, 1, 4, 3, 2, 1, 2, 4, 3, 1, 3, 3, 2, 1, 2, 3, 2, 3, 1, 2, 3, 3, 1, 1, 3, 4, 2, 1, 2, 3, 4, 2, 1, 2, 3, 1, 2, 3, 2, 4, 2, 2, 2, 1, 4, 4, 1, 3, 1, 1, 3, 4, 2, 2, 3, 4, 3, 4, 2, 2, 1, 1, 1, 2, 3, 4, 3, 4, 2, 2, 2, 4, 1, 2], \"Freq\": [0.9984408617019653, 0.9988656044006348, 0.9988327622413635, 0.9985448122024536, 0.9928029775619507, 0.9999104142189026, 0.9937177896499634, 0.996001660823822, 0.9996873736381531, 0.9990569949150085, 0.9969543218612671, 0.07226943969726562, 0.9188543558120728, 0.9881967306137085, 0.9986844658851624, 0.9972684383392334, 0.9899508953094482, 0.9914626479148865, 0.9944963455200195, 0.9983130097389221, 0.9988425374031067, 0.9947226047515869, 0.9955703020095825, 0.9946871995925903, 0.9908481240272522, 0.9983999133110046, 0.9954949617385864, 0.9954079985618591, 0.9972913861274719, 0.9954003691673279, 0.9997925758361816, 0.9982399940490723, 0.9939761757850647, 0.9952945709228516, 0.9922206401824951, 0.0018348151352256536, 0.9963046312332153, 0.0018348151352256536, 0.005500863306224346, 0.9828208684921265, 0.011001726612448692, 0.993971049785614, 0.03198675811290741, 0.9596027731895447, 0.9930667877197266, 0.998045802116394, 0.9997818470001221, 0.9984982013702393, 0.9948793053627014, 0.005921900738030672, 0.9985572099685669, 0.994304895401001, 0.993618369102478, 0.9887809157371521, 0.992219090461731, 0.9910191893577576, 0.9875319600105286, 0.017223788425326347, 0.9817559719085693, 0.9932790994644165, 0.9937618374824524, 0.9953031539916992, 0.002927362220361829, 0.9953287839889526, 0.05611613765358925, 0.06733936816453934, 0.8641884922981262, 0.02281641587615013, 0.011408207938075066, 0.9582894444465637, 0.9948192834854126, 0.9971610903739929, 0.9919483661651611, 0.9896895885467529, 0.9996790885925293, 0.9907096028327942, 0.9844934940338135, 0.9950833916664124, 0.997214674949646, 0.9925217628479004, 0.9934625625610352, 0.9929495453834534, 0.9944230318069458, 0.998428463935852, 0.9818979501724243, 0.9851473569869995, 0.9962843060493469, 0.9971716403961182, 0.9923659563064575, 0.9923447966575623, 0.9954425096511841, 0.9961740970611572, 0.9933267831802368, 0.9945428967475891, 0.9957832098007202, 0.9983564019203186, 0.9984473586082458, 0.9963065981864929, 0.9960963726043701, 0.13078318536281586, 0.865181028842926, 0.9948793053627014, 0.9944230318069458, 0.9969971179962158, 0.9938818216323853, 0.9840067625045776, 0.9925896525382996, 0.9952089786529541, 0.9997044801712036, 0.015898797661066055, 0.007949398830533028, 0.9698266983032227, 0.997350811958313, 0.04366908594965935, 0.8941764831542969, 0.062384407967329025, 0.002079480094835162, 0.9931074380874634, 0.7799164652824402, 0.21982939541339874, 0.9988804459571838, 0.23912720382213593, 0.7536129951477051, 0.0072462791576981544, 0.9988229870796204, 0.992191731929779, 0.9898680448532104, 0.9872052669525146, 0.9941681027412415, 0.9930710792541504, 0.9850794672966003, 0.992927074432373, 0.9955043792724609, 0.9879920482635498, 0.9996936321258545, 0.9954344034194946, 0.9873151779174805, 0.9978048205375671, 0.9958287477493286, 0.9895888566970825, 0.9977283477783203, 0.9823630452156067, 0.9926322102546692, 0.9915857911109924, 0.997751772403717, 0.9950869679450989, 0.9998676180839539, 0.9993513822555542, 0.7380255460739136, 0.06589514017105103, 0.04832310229539871, 0.14716580510139465, 0.9904444813728333, 0.9925453662872314, 0.994617223739624, 0.987930178642273, 0.997744619846344, 0.993066668510437, 0.9961297512054443, 0.9923859238624573], \"Term\": [\"airdrop\", \"altcoin\", \"amp\", \"article\", \"bank\", \"bitcoin\", \"bitjob\", \"blockc\", \"blockchain\", \"blog\", \"bonus\", \"boprhpepv\", \"boprhpepv\", \"briandevan\", \"btc\", \"business\", \"buy\", \"cap\", \"ceo\", \"chat\", \"check\", \"china\", \"click\", \"cofounder\", \"coin\", \"cointelegraph\", \"community\", \"contest\", \"crowdsale\", \"crypto\", \"cryptocurrency\", \"day\", \"dollar\", \"dovuapi\", \"ebtc\", \"eltc\", \"eltc\", \"eltc\", \"eltcoin\", \"eltcoin\", \"eltcoin\", \"employer\", \"esport\", \"esport\", \"eth\", \"ether\", \"ethereum\", \"ethlend\", \"everyone\", \"everyone\", \"exchange\", \"fee\", \"forbe\", \"fork\", \"founder\", \"freelancer\", \"fund\", \"gglyzmyf\", \"gglyzmyf\", \"gt\", \"guy\", \"hedge\", \"hedge\", \"hero\", \"herocoinio\", \"herocoinio\", \"herocoinio\", \"hope\", \"hope\", \"hope\", \"horizonstate\", \"hour\", \"hst\", \"http\", \"https\", \"imf\", \"implication\", \"index\", \"interview\", \"investor\", \"jamieskella\", \"kapucoin\", \"kaputec\", \"litecoin\", \"love\", \"ltc\", \"mark\", \"market\", \"marketplace\", \"message\", \"min\", \"mobility\", \"money\", \"month\", \"network\", \"news\", \"nologynology\", \"oct\", \"october\", \"openmoneyvalue\", \"openmoneyvalue\", \"payment\", \"pbv\", \"platform\", \"plthwbgs\", \"pm\", \"post\", \"pre\", \"project\", \"reuter\", \"reuter\", \"reuter\", \"review\", \"rjbbt\", \"rjbbt\", \"rjbbt\", \"rjbbt\", \"rsvp\", \"rt\", \"rt\", \"sale\", \"section\", \"section\", \"section\", \"security\", \"service\", \"site\", \"soar\", \"startup\", \"state\", \"street\", \"student\", \"swap\", \"system\", \"tech\", \"telegram\", \"thank\", \"time\", \"tip\", \"today\", \"trend\", \"trezor\", \"update\", \"upgrade\", \"usd\", \"valuation\", \"value\", \"valueale\", \"valuealehedge\", \"valuealehedge\", \"valuealehedge\", \"valuealehedge\", \"video\", \"wall\", \"wallet\", \"warning\", \"week\", \"winner\", \"work\", \"world\"]}, \"R\": 30, \"lambda.step\": 0.01, \"plot.opts\": {\"xlab\": \"PC1\", \"ylab\": \"PC2\"}, \"topic.order\": [1, 3, 4, 2]};\n",
       "\n",
       "function LDAvis_load_lib(url, callback){\n",
       "  var s = document.createElement('script');\n",
       "  s.src = url;\n",
       "  s.async = true;\n",
       "  s.onreadystatechange = s.onload = callback;\n",
       "  s.onerror = function(){console.warn(\"failed to load library \" + url);};\n",
       "  document.getElementsByTagName(\"head\")[0].appendChild(s);\n",
       "}\n",
       "\n",
       "if(typeof(LDAvis) !== \"undefined\"){\n",
       "   // already loaded: just create the visualization\n",
       "   !function(LDAvis){\n",
       "       new LDAvis(\"#\" + \"ldavis_el1043619402356340327767899315\", ldavis_el1043619402356340327767899315_data);\n",
       "   }(LDAvis);\n",
       "}else if(typeof define === \"function\" && define.amd){\n",
       "   // require.js is available: use it to load d3/LDAvis\n",
       "   require.config({paths: {d3: \"https://cdnjs.cloudflare.com/ajax/libs/d3/3.5.5/d3.min\"}});\n",
       "   require([\"d3\"], function(d3){\n",
       "      window.d3 = d3;\n",
       "      LDAvis_load_lib(\"https://cdn.rawgit.com/bmabey/pyLDAvis/files/ldavis.v1.0.0.js\", function(){\n",
       "        new LDAvis(\"#\" + \"ldavis_el1043619402356340327767899315\", ldavis_el1043619402356340327767899315_data);\n",
       "      });\n",
       "    });\n",
       "}else{\n",
       "    // require.js not available: dynamically load d3 & LDAvis\n",
       "    LDAvis_load_lib(\"https://cdnjs.cloudflare.com/ajax/libs/d3/3.5.5/d3.min.js\", function(){\n",
       "         LDAvis_load_lib(\"https://cdn.rawgit.com/bmabey/pyLDAvis/files/ldavis.v1.0.0.js\", function(){\n",
       "                 new LDAvis(\"#\" + \"ldavis_el1043619402356340327767899315\", ldavis_el1043619402356340327767899315_data);\n",
       "            })\n",
       "         });\n",
       "}\n",
       "</script>"
      ],
      "text/plain": [
       "PreparedData(topic_coordinates=              x         y  topics  cluster       Freq\n",
       "topic                                                \n",
       "0      0.348562 -0.011266       1        1  52.606285\n",
       "2     -0.106982  0.263371       2        1  17.484238\n",
       "3     -0.130799 -0.208539       3        1  16.868868\n",
       "1     -0.110781 -0.043566       4        1  13.040606, topic_info=     Category         Freq            Term        Total  loglift  logprob\n",
       "term                                                                     \n",
       "6     Default  5064.000000           value  5064.000000  30.0000  30.0000\n",
       "19    Default  4296.000000        ethereum  4296.000000  29.0000  29.0000\n",
       "8     Default  3483.000000           https  3483.000000  28.0000  28.0000\n",
       "31    Default  2723.000000            tech  2723.000000  27.0000  27.0000\n",
       "18    Default  2702.000000  cryptocurrency  2702.000000  26.0000  26.0000\n",
       "1     Default  2215.000000         bitcoin  2215.000000  25.0000  25.0000\n",
       "23    Default  2017.000000      blockchain  2017.000000  24.0000  24.0000\n",
       "696   Default   706.000000         airdrop   706.000000  23.0000  23.0000\n",
       "68    Default   700.000000        litecoin   700.000000  22.0000  22.0000\n",
       "1127  Default   545.000000            eltc   545.000000  21.0000  21.0000\n",
       "1128  Default   545.000000         eltcoin   545.000000  20.0000  20.0000\n",
       "628   Default   496.000000            blog   496.000000  19.0000  19.0000\n",
       "301   Default   383.000000            hour   383.000000  18.0000  18.0000\n",
       "105   Default   389.000000            sale   389.000000  17.0000  17.0000\n",
       "76    Default   384.000000        platform   384.000000  16.0000  16.0000\n",
       "3425  Default   480.000000           rjbbt   480.000000  15.0000  15.0000\n",
       "440   Default   311.000000         article   311.000000  14.0000  14.0000\n",
       "120   Default   362.000000        exchange   362.000000  13.0000  13.0000\n",
       "91    Default   339.000000    nologynology   339.000000  12.0000  12.0000\n",
       "90    Default   341.000000           hedge   341.000000  11.0000  11.0000\n",
       "1035  Default   841.000000        valueale   841.000000  10.0000  10.0000\n",
       "47    Default   293.000000            week   293.000000   9.0000   9.0000\n",
       "30    Default   293.000000        security   293.000000   8.0000   8.0000\n",
       "184   Default   282.000000           bonus   282.000000   7.0000   7.0000\n",
       "87    Default   281.000000             usd   281.000000   6.0000   6.0000\n",
       "1293  Default   264.000000             min   264.000000   5.0000   5.0000\n",
       "17    Default   728.000000             btc   728.000000   4.0000   4.0000\n",
       "185   Default   250.000000             day   250.000000   3.0000   3.0000\n",
       "179   Default   600.000000         project   600.000000   2.0000   2.0000\n",
       "109   Default   578.000000           check   578.000000   1.0000   1.0000\n",
       "...       ...          ...             ...          ...      ...      ...\n",
       "4173   Topic4   146.972290            hero   147.689896   2.0322  -4.3020\n",
       "198    Topic4   126.820259            mark   127.473656   2.0320  -4.4495\n",
       "331    Topic4   124.444893      freelancer   125.123711   2.0317  -4.4684\n",
       "424    Topic4   121.445679            coin   122.117607   2.0316  -4.4928\n",
       "330    Topic4   123.034058        employer   123.746056   2.0313  -4.4798\n",
       "133    Topic4   113.156982         service   113.889275   2.0307  -4.5635\n",
       "309    Topic4   104.210876             cap   104.895531   2.0306  -4.6459\n",
       "44     Topic4    97.549362            time    98.215599   2.0303  -4.7119\n",
       "697    Topic4    87.887947          bitjob    88.556328   2.0295  -4.8162\n",
       "57     Topic4    83.980072        investor    84.632904   2.0294  -4.8617\n",
       "353    Topic4    90.224548            http    90.937607   2.0292  -4.7900\n",
       "1213   Topic4    94.659462           click    95.422691   2.0291  -4.7420\n",
       "394    Topic4    66.700844           china    67.355461   2.0273  -5.0921\n",
       "2641   Topic4    64.792374          winner    65.453812   2.0269  -5.1211\n",
       "5576   Topic4    65.881775         upgrade    66.560051   2.0269  -5.1044\n",
       "843    Topic4    59.796017            wall    60.450638   2.0262  -5.2013\n",
       "370    Topic4    62.710556           forbe    63.404625   2.0261  -5.1538\n",
       "842    Topic4    59.237675          street    59.893646   2.0261  -5.2107\n",
       "326    Topic4    60.655464           month    61.334709   2.0260  -5.1871\n",
       "2682   Topic4    52.976616      briandevan    53.633045   2.0248  -5.3224\n",
       "2341   Topic4    51.284443            love    51.940224   2.0244  -5.3549\n",
       "1614   Topic4    49.203571          trezor    49.879726   2.0235  -5.3963\n",
       "1190   Topic4    46.563152         contest    47.216820   2.0232  -5.4515\n",
       "4355   Topic4    58.010731     implication    58.913544   2.0217  -5.2317\n",
       "8296   Topic4   122.251801          reuter   125.795670   2.0085  -4.4862\n",
       "482    Topic4    84.233871            hope    87.656189   1.9973  -4.8587\n",
       "332    Topic4    56.834873        gglyzmyf    58.059235   2.0158  -5.2521\n",
       "4047   Topic4    60.215641          esport    62.525871   1.9995  -5.1943\n",
       "5248   Topic4    77.438492      herocoinio    89.100929   1.8968  -4.9428\n",
       "9717   Topic4    66.908615   valuealehedge   455.268799   0.1195  -5.0890\n",
       "\n",
       "[167 rows x 6 columns], token_table=      Topic      Freq           Term\n",
       "term                                \n",
       "696       3  0.998441        airdrop\n",
       "16        1  0.998866        altcoin\n",
       "97        1  0.998833            amp\n",
       "440       4  0.998545        article\n",
       "143       1  0.992803           bank\n",
       "1         1  0.999910        bitcoin\n",
       "697       4  0.993718         bitjob\n",
       "271       1  0.996002         blockc\n",
       "23        1  0.999687     blockchain\n",
       "628       3  0.999057           blog\n",
       "184       2  0.996954          bonus\n",
       "9654      1  0.072269      boprhpepv\n",
       "9654      3  0.918854      boprhpepv\n",
       "2682      4  0.988197     briandevan\n",
       "17        1  0.998684            btc\n",
       "658       2  0.997268       business\n",
       "962       2  0.989951            buy\n",
       "309       4  0.991463            cap\n",
       "144       1  0.994496            ceo\n",
       "176       1  0.998313           chat\n",
       "109       1  0.998843          check\n",
       "394       4  0.994723          china\n",
       "1213      4  0.995570          click\n",
       "3316      3  0.994687      cofounder\n",
       "424       4  0.990848           coin\n",
       "136       3  0.998400  cointelegraph\n",
       "264       3  0.995495      community\n",
       "1190      4  0.995408        contest\n",
       "782       1  0.997291      crowdsale\n",
       "102       3  0.995400         crypto\n",
       "...     ...       ...            ...\n",
       "842       4  0.985079         street\n",
       "335       4  0.992927        student\n",
       "1383      1  0.995504           swap\n",
       "1908      3  0.987992         system\n",
       "31        1  0.999694           tech\n",
       "181       1  0.995434       telegram\n",
       "661       3  0.987315          thank\n",
       "44        4  0.997805           time\n",
       "515       2  0.995829            tip\n",
       "267       2  0.989589          today\n",
       "480       3  0.997728          trend\n",
       "1614      4  0.982363         trezor\n",
       "784       3  0.992632         update\n",
       "5576      4  0.991586        upgrade\n",
       "87        2  0.997752            usd\n",
       "895       2  0.995087      valuation\n",
       "6         1  0.999868          value\n",
       "1035      1  0.999351       valueale\n",
       "9717      1  0.738026  valuealehedge\n",
       "9717      2  0.065895  valuealehedge\n",
       "9717      3  0.048323  valuealehedge\n",
       "9717      4  0.147166  valuealehedge\n",
       "80        3  0.990444          video\n",
       "843       4  0.992545           wall\n",
       "558       2  0.994617         wallet\n",
       "896       2  0.987930        warning\n",
       "47        2  0.997745           week\n",
       "2641      4  0.993067         winner\n",
       "160       1  0.996130           work\n",
       "126       2  0.992386          world\n",
       "\n",
       "[160 rows x 3 columns], R=30, lambda_step=0.01, plot_opts={'xlab': 'PC1', 'ylab': 'PC2'}, topic_order=[1, 3, 4, 2])"
      ]
     },
     "execution_count": 33,
     "metadata": {},
     "output_type": "execute_result"
    }
   ],
   "source": [
    "# Visualize the topics\n",
    "pyLDAvis.enable_notebook()\n",
    "vis_noun = pyLDAvis.gensim.prepare(lda_model_noun, corpus_noun, id2word_noun)\n",
    "vis_noun"
   ]
  },
  {
   "cell_type": "code",
   "execution_count": 34,
   "metadata": {},
   "outputs": [
    {
     "data": {
      "image/png": "[encoded data removed]",
      "text/plain": [
       "<Figure size 432x288 with 1 Axes>"
      ]
     },
     "metadata": {},
     "output_type": "display_data"
    }
   ],
   "source": [
    "model_list_verb, coherence_values_verb = compute_coherence_values(dictionary=id2word_verb, corpus=corpus_verb, texts=data_lemmatized_verb, start=1, limit=6, step=1)\n",
    "# Show graph\n",
    "import matplotlib.pyplot as plt\n",
    "limit=6; start=1; step=1;\n",
    "x = range(start, limit, step)\n",
    "plt.plot(x, coherence_values_verb)\n",
    "plt.xlabel(\"Num Topics\")\n",
    "plt.ylabel(\"Coherence score\")\n",
    "plt.legend((\"coherence_values\"), loc='best')\n",
    "plt.show()"
   ]
  },
  {
   "cell_type": "code",
   "execution_count": 37,
   "metadata": {},
   "outputs": [],
   "source": [
    "#Building the Topic Model\n",
    "# Build LDA model for verb with 4 number of topics\n",
    "#Number of topics has been selected based on coherence score plot.\n",
    "lda_model_verb = gensim.models.ldamodel.LdaModel(corpus=corpus_verb,\n",
    "                                           id2word=id2word_verb,\n",
    "                                           num_topics=4, \n",
    "                                           random_state=100,\n",
    "                                           update_every=1,\n",
    "                                           chunksize=100,\n",
    "                                           passes=20,\n",
    "                                           alpha='auto',\n",
    "                                           per_word_topics=True)\n"
   ]
  },
  {
   "cell_type": "code",
   "execution_count": 38,
   "metadata": {},
   "outputs": [
    {
     "name": "stderr",
     "output_type": "stream",
     "text": [
      "C:\\Omkar\\python36\\lib\\site-packages\\pyLDAvis\\_prepare.py:257: FutureWarning: Sorting because non-concatenation axis is not aligned. A future version\n",
      "of pandas will change to not sort by default.\n",
      "\n",
      "To accept the future behavior, pass 'sort=True'.\n",
      "\n",
      "To retain the current behavior and silence the warning, pass sort=False\n",
      "\n",
      "  return pd.concat([default_term_info] + list(topic_dfs))\n"
     ]
    },
    {
     "data": {
      "text/html": [
       "\n",
       "<link rel=\"stylesheet\" type=\"text/css\" href=\"https://cdn.rawgit.com/bmabey/pyLDAvis/files/ldavis.v1.0.0.css\">\n",
       "\n",
       "\n",
       "<div id=\"ldavis_el1043619402301109283715905576\"></div>\n",
       "<script type=\"text/javascript\">\n",
       "\n",
       "var ldavis_el1043619402301109283715905576_data = {\"mdsDat\": {\"x\": [0.38492757111070497, -0.11365518504589019, -0.12947779067687984, -0.1417945953879347], \"y\": [-0.01150280805606139, 0.1317542503086866, 0.1909015464255674, -0.31115298867819247], \"topics\": [1, 2, 3, 4], \"cluster\": [1, 1, 1, 1], \"Freq\": [57.141387939453125, 15.751324653625488, 14.003409385681152, 13.1038818359375]}, \"tinfo\": {\"Category\": [\"Default\", \"Default\", \"Default\", \"Default\", \"Default\", \"Default\", \"Default\", \"Default\", \"Default\", \"Default\", \"Default\", \"Default\", \"Default\", \"Default\", \"Default\", \"Default\", \"Default\", \"Default\", \"Default\", \"Default\", \"Default\", \"Default\", \"Default\", \"Default\", \"Default\", \"Default\", \"Default\", \"Default\", \"Default\", \"Default\", \"Topic1\", \"Topic1\", \"Topic1\", \"Topic1\", \"Topic1\", \"Topic1\", \"Topic1\", \"Topic1\", \"Topic1\", \"Topic1\", \"Topic1\", \"Topic1\", \"Topic1\", \"Topic1\", \"Topic1\", \"Topic1\", \"Topic1\", \"Topic1\", \"Topic1\", \"Topic1\", \"Topic1\", \"Topic1\", \"Topic1\", \"Topic1\", \"Topic1\", \"Topic1\", \"Topic1\", \"Topic1\", \"Topic1\", \"Topic1\", \"Topic1\", \"Topic2\", \"Topic2\", \"Topic2\", \"Topic2\", \"Topic2\", \"Topic2\", \"Topic2\", \"Topic2\", \"Topic2\", \"Topic2\", \"Topic2\", \"Topic2\", \"Topic2\", \"Topic2\", \"Topic2\", \"Topic2\", \"Topic2\", \"Topic2\", \"Topic2\", \"Topic2\", \"Topic2\", \"Topic2\", \"Topic2\", \"Topic2\", \"Topic2\", \"Topic2\", \"Topic2\", \"Topic2\", \"Topic2\", \"Topic2\", \"Topic2\", \"Topic2\", \"Topic3\", \"Topic3\", \"Topic3\", \"Topic3\", \"Topic3\", \"Topic3\", \"Topic3\", \"Topic3\", \"Topic3\", \"Topic3\", \"Topic3\", \"Topic3\", \"Topic3\", \"Topic3\", \"Topic3\", \"Topic3\", \"Topic3\", \"Topic3\", \"Topic3\", \"Topic3\", \"Topic3\", \"Topic3\", \"Topic3\", \"Topic3\", \"Topic3\", \"Topic3\", \"Topic3\", \"Topic3\", \"Topic3\", \"Topic3\", \"Topic3\", \"Topic3\", \"Topic3\", \"Topic3\", \"Topic3\", \"Topic4\", \"Topic4\", \"Topic4\", \"Topic4\", \"Topic4\", \"Topic4\", \"Topic4\", \"Topic4\", \"Topic4\", \"Topic4\", \"Topic4\", \"Topic4\", \"Topic4\", \"Topic4\", \"Topic4\", \"Topic4\", \"Topic4\", \"Topic4\", \"Topic4\", \"Topic4\", \"Topic4\", \"Topic4\", \"Topic4\", \"Topic4\", \"Topic4\", \"Topic4\", \"Topic4\", \"Topic4\", \"Topic4\", \"Topic4\", \"Topic4\", \"Topic4\", \"Topic4\"], \"Freq\": [7701.0, 507.0, 477.0, 1186.0, 328.0, 305.0, 235.0, 205.0, 196.0, 180.0, 164.0, 144.0, 153.0, 134.0, 135.0, 133.0, 132.0, 128.0, 115.0, 417.0, 107.0, 102.0, 110.0, 109.0, 103.0, 102.0, 96.0, 88.0, 84.0, 86.0, 7700.9794921875, 1185.8062744140625, 416.9738464355469, 217.75323486328125, 201.7436065673828, 171.91009521484375, 158.51992797851562, 140.47433471679688, 137.4402313232422, 115.0343246459961, 144.6759490966797, 91.7981948852539, 90.04164123535156, 93.74166107177734, 72.98060607910156, 74.26175689697266, 65.4411392211914, 68.15746307373047, 60.71943283081055, 229.88560485839844, 90.42847442626953, 48.44995880126953, 47.50692367553711, 43.99140548706055, 43.02146911621094, 39.219974517822266, 36.28012466430664, 35.08894348144531, 49.9489860534668, 31.04821014404297, 34.75929641723633, 305.0945739746094, 235.0336151123047, 163.5878448486328, 152.83657836914062, 127.76266479492188, 109.66429901123047, 102.94593048095703, 108.4379653930664, 95.84707641601562, 101.552001953125, 85.91299438476562, 83.1393051147461, 73.89289093017578, 63.92290496826172, 57.361106872558594, 52.83724594116211, 55.7709846496582, 51.90911865234375, 46.13151931762695, 52.407501220703125, 43.85015869140625, 43.95674514770508, 41.231040954589844, 38.98303985595703, 42.06990432739258, 35.641868591308594, 41.82151412963867, 33.77401351928711, 33.02161407470703, 36.4478759765625, 63.24588394165039, 49.05418395996094, 327.44598388671875, 204.7112579345703, 133.13661193847656, 131.29901123046875, 134.2560577392578, 114.53543853759766, 179.77049255371094, 88.18067932128906, 83.72422790527344, 106.12342071533203, 75.31987762451172, 51.227745056152344, 51.34100341796875, 50.933719635009766, 38.06062316894531, 42.04962158203125, 32.977115631103516, 32.165863037109375, 32.31722640991211, 30.351139068603516, 29.97515106201172, 29.089435577392578, 29.3427791595459, 25.22916603088379, 23.189207077026367, 23.337787628173828, 21.10396385192871, 19.614078521728516, 19.242496490478516, 17.79071807861328, 69.78947448730469, 69.78947448730469, 69.78947448730469, 21.60658836364746, 32.31809997558594, 506.2174987792969, 476.21136474609375, 143.94757080078125, 134.09983825683594, 194.9723663330078, 101.52951049804688, 70.61701202392578, 77.07852172851562, 60.725364685058594, 55.62052536010742, 54.36658477783203, 52.202545166015625, 40.93148422241211, 34.49916458129883, 35.88408660888672, 39.08168029785156, 32.751319885253906, 28.007816314697266, 24.55087661743164, 21.963218688964844, 23.36612892150879, 21.752117156982422, 17.265329360961914, 18.51638412475586, 15.494754791259766, 13.928091049194336, 13.027411460876465, 12.14054012298584, 11.558302879333496, 10.101828575134277, 19.885316848754883, 34.053993225097656, 14.532302856445312], \"Term\": [\"https\", \"introduce\", \"valueiz\", \"join\", \"read\", \"come\", \"make\", \"increase\", \"perform\", \"lend\", \"base\", \"list\", \"know\", \"break\", \"involve\", \"start\", \"invest\", \"thank\", \"live\", \"go\", \"integrate\", \"decentralize\", \"buy\", \"speak\", \"want\", \"retweet\", \"see\", \"may\", \"would\", \"send\", \"https\", \"join\", \"go\", \"get\", \"could\", \"blockchain\", \"replace\", \"check\", \"follow\", \"grow\", \"protect\", \"bitcoin\", \"say\", \"enjoy\", \"learn\", \"interview\", \"mention\", \"meet\", \"think\", \"expire\", \"upcom\", \"keep\", \"work\", \"combine\", \"take\", \"understand\", \"end\", \"revolutionize\", \"byzantium\", \"support\", \"excite\", \"come\", \"make\", \"base\", \"know\", \"thank\", \"buy\", \"want\", \"speak\", \"see\", \"retweet\", \"send\", \"compare\", \"hold\", \"build\", \"create\", \"amp\", \"fall\", \"participate\", \"reach\", \"win\", \"sell\", \"tune\", \"give\", \"hit\", \"rajuahm\", \"look\", \"receive\", \"happen\", \"welcome\", \"open\", \"cross\", \"hack\", \"read\", \"increase\", \"start\", \"invest\", \"involve\", \"live\", \"lend\", \"may\", \"would\", \"integrate\", \"change\", \"help\", \"earn\", \"need\", \"let\", \"complete\", \"release\", \"subscribe\", \"like\", \"game\", \"ask\", \"run\", \"soar\", \"regulate\", \"visit\", \"call\", \"hear\", \"offer\", \"solve\", \"try\", \"arrange\", \"establish\", \"negotiate\", \"scale\", \"augur\", \"introduce\", \"valueiz\", \"list\", \"break\", \"perform\", \"decentralize\", \"launch\", \"provide\", \"announce\", \"publish\", \"discuss\", \"add\", \"become\", \"find\", \"vote\", \"accelerate\", \"value\", \"leave\", \"miss\", \"post\", \"wait\", \"contribute\", \"enable\", \"rt\", \"study\", \"back\", \"deliver\", \"ai\", \"put\", \"expand\", \"advance\", \"btctn\", \"warn\"], \"Total\": [7701.0, 507.0, 477.0, 1186.0, 328.0, 305.0, 235.0, 205.0, 196.0, 180.0, 164.0, 144.0, 153.0, 134.0, 135.0, 133.0, 132.0, 128.0, 115.0, 417.0, 107.0, 102.0, 110.0, 109.0, 103.0, 102.0, 96.0, 88.0, 84.0, 86.0, 7701.68994140625, 1186.5589599609375, 417.6961669921875, 218.4568634033203, 202.43313598632812, 172.59478759765625, 159.21945190429688, 141.19883728027344, 138.19329833984375, 115.73493194580078, 145.58758544921875, 92.49820709228516, 90.76483154296875, 94.5471420288086, 73.67729949951172, 74.99993896484375, 66.15705871582031, 68.91998291015625, 61.42028045654297, 232.57058715820312, 91.53131866455078, 49.150047302246094, 48.227603912353516, 44.6999397277832, 43.740623474121094, 39.95362854003906, 36.97490692138672, 35.80286407470703, 51.021324157714844, 31.750944137573242, 35.60194778442383, 305.81500244140625, 235.75271606445312, 164.28294372558594, 153.54830932617188, 128.46852111816406, 110.37760162353516, 103.64543151855469, 109.17861938476562, 96.53785705566406, 102.36649322509766, 86.62500762939453, 83.89154815673828, 74.62556457519531, 64.60713195800781, 58.06011962890625, 53.5218391418457, 56.4963493347168, 52.646419525146484, 46.82005310058594, 53.21396255493164, 44.5744743347168, 44.68932342529297, 41.92792510986328, 39.676475524902344, 42.83068084716797, 36.33417892456055, 42.64183044433594, 34.4838752746582, 33.72724914550781, 37.29990005493164, 109.02716064453125, 101.0722427368164, 328.19647216796875, 205.48377990722656, 133.862548828125, 132.0155487060547, 135.09405517578125, 115.26734924316406, 180.95108032226562, 88.9112548828125, 84.50668334960938, 107.11658477783203, 76.03670501708984, 51.93434143066406, 52.060630798339844, 51.66034698486328, 38.774147033691406, 42.92133331298828, 33.696537017822266, 32.89616394042969, 33.084781646728516, 31.105470657348633, 30.720703125, 29.8465576171875, 30.13389778137207, 25.990903854370117, 23.911584854125977, 24.069379806518555, 21.84175682067871, 20.323226928710938, 19.974641799926758, 18.510662078857422, 74.92658233642578, 74.92658233642578, 74.92658233642578, 22.60175132751465, 49.27202606201172, 507.07855224609375, 477.444580078125, 144.7209014892578, 134.8698272705078, 196.45147705078125, 102.33193969726562, 71.39599609375, 77.95158386230469, 61.52743911743164, 56.39268493652344, 55.16979217529297, 53.009971618652344, 41.7071647644043, 35.2728385925293, 36.697452545166016, 40.031394958496094, 33.585819244384766, 28.841615676879883, 25.3105525970459, 22.76439666748047, 24.299224853515625, 22.648712158203125, 18.02195167541504, 19.337392807006836, 16.325462341308594, 14.706833839416504, 13.829093933105469, 12.889328002929688, 12.32992172241211, 10.857508659362793, 22.01079750061035, 42.923789978027344, 18.41231918334961], \"loglift\": [30.0, 29.0, 28.0, 27.0, 26.0, 25.0, 24.0, 23.0, 22.0, 21.0, 20.0, 19.0, 18.0, 17.0, 16.0, 15.0, 14.0, 13.0, 12.0, 11.0, 10.0, 9.0, 8.0, 7.0, 6.0, 5.0, 4.0, 3.0, 2.0, 1.0, 0.559499979019165, 0.5590000152587891, 0.5579000115394592, 0.5564000010490417, 0.5562000274658203, 0.5557000041007996, 0.5551999807357788, 0.5544999837875366, 0.5541999936103821, 0.553600013256073, 0.5533999800682068, 0.5519999861717224, 0.5515999794006348, 0.5511000156402588, 0.5501000285148621, 0.5497999787330627, 0.548799991607666, 0.5485000014305115, 0.5482000112533569, 0.5479999780654907, 0.5475000143051147, 0.5453000068664551, 0.5446000099182129, 0.5436999797821045, 0.5430999994277954, 0.541100025177002, 0.5407000184059143, 0.5394999980926514, 0.5383999943733215, 0.5372999906539917, 0.5357000231742859, 1.845900058746338, 1.8451999425888062, 1.843999981880188, 1.8436000347137451, 1.8427000045776367, 1.8417999744415283, 1.8415000438690186, 1.8414000272750854, 1.8410999774932861, 1.8402999639511108, 1.840000033378601, 1.8392000198364258, 1.8384000062942505, 1.8375999927520752, 1.8360999822616577, 1.8353999853134155, 1.8352999687194824, 1.8341000080108643, 1.833400011062622, 1.8329999446868896, 1.8319000005722046, 1.8316999673843384, 1.8315000534057617, 1.8306000232696533, 1.830299973487854, 1.8289999961853027, 1.8287999629974365, 1.8273999691009521, 1.8271000385284424, 1.8250999450683594, 1.3036999702453613, 1.1253000497817993, 1.9636000394821167, 1.9621000289916992, 1.9603999853134155, 1.9603999853134155, 1.9595999717712402, 1.9594999551773071, 1.9593000411987305, 1.9575999975204468, 1.9565999507904053, 1.9565999507904053, 1.9564000368118286, 1.9522000551223755, 1.9520000219345093, 1.95169997215271, 1.9472999572753906, 1.9453999996185303, 1.9443000555038452, 1.9434000253677368, 1.9423999786376953, 1.9413000345230103, 1.9413000345230103, 1.9401999711990356, 1.9392999410629272, 1.9361000061035156, 1.9351999759674072, 1.934999942779541, 1.93149995803833, 1.930400013923645, 1.9285000562667847, 1.926200032234192, 1.8947999477386475, 1.8947999477386475, 1.8947999477386475, 1.920799970626831, 1.544100046157837, 2.030600070953369, 2.0297000408172607, 2.026900053024292, 2.0264999866485596, 2.0246999263763428, 2.024399995803833, 2.0213000774383545, 2.0209999084472656, 2.0190999507904053, 2.0185000896453857, 2.0176000595092773, 2.016900062561035, 2.0134999752044678, 2.0100998878479004, 2.0097999572753906, 2.0083000659942627, 2.0071001052856445, 2.0028998851776123, 2.001800060272217, 1.996399998664856, 1.9931000471115112, 1.9918999671936035, 1.989400029182434, 1.9888999462127686, 1.9800000190734863, 1.9779000282287598, 1.972499966621399, 1.9723999500274658, 1.9675999879837036, 1.9601000547409058, 1.9306999444961548, 1.8007999658584595, 1.7956000566482544], \"logprob\": [30.0, 29.0, 28.0, 27.0, 26.0, 25.0, 24.0, 23.0, 22.0, 21.0, 20.0, 19.0, 18.0, 17.0, 16.0, 15.0, 14.0, 13.0, 12.0, 11.0, 10.0, 9.0, 8.0, 7.0, 6.0, 5.0, 4.0, 3.0, 2.0, 1.0, -0.5667999982833862, -2.437700033187866, -3.4828999042510986, -4.132500171661377, -4.208899974822998, -4.368899822235107, -4.449999809265137, -4.570899963378906, -4.592700004577637, -4.770699977874756, -4.541399955749512, -4.996300220489502, -5.015600204467773, -4.975399971008301, -5.2256999015808105, -5.2083001136779785, -5.334700107574463, -5.294099807739258, -5.409599781036377, -4.0782999992370605, -5.011300086975098, -5.63539981842041, -5.65500020980835, -5.731900215148926, -5.754199981689453, -5.846700191497803, -5.924600124359131, -5.958000183105469, -5.604899883270264, -6.080399990081787, -5.96750020980835, -2.506700038909912, -2.7676000595092773, -3.1298999786376953, -3.1979000568389893, -3.3770999908447266, -3.529900074005127, -3.593100070953369, -3.541100025177002, -3.6644999980926514, -3.6066999435424805, -3.7739999294281006, -3.80679988861084, -3.9247000217437744, -4.0696001052856445, -4.1778998374938965, -4.2600998878479, -4.205999851226807, -4.2778000831604, -4.3958001136779785, -4.268199920654297, -4.446499824523926, -4.4440999031066895, -4.5081000328063965, -4.564199924468994, -4.48799991607666, -4.653800010681152, -4.493899822235107, -4.707600116729736, -4.730100154876709, -4.631400108337402, -4.0802998542785645, -4.334400177001953, -2.3183000087738037, -2.788100004196167, -3.2183001041412354, -3.2321999073028564, -3.20989990234375, -3.368799924850464, -2.9179999828338623, -3.6303000450134277, -3.6821000576019287, -3.4451000690460205, -3.787899971008301, -4.173399925231934, -4.171199798583984, -4.179100036621094, -4.4704999923706055, -4.370800018310547, -4.613900184631348, -4.638800144195557, -4.634099960327148, -4.696800231933594, -4.7093000411987305, -4.739299774169922, -4.730599880218506, -4.881700038909912, -4.966000080108643, -4.95959997177124, -5.060200214385986, -5.133399963378906, -5.152599811553955, -5.230999946594238, -3.8642001152038574, -3.8642001152038574, -3.8642001152038574, -5.0366997718811035, -4.633999824523926, -1.8163000345230103, -1.8774000406265259, -3.0738000869750977, -3.144700050354004, -2.770400047302246, -3.4228999614715576, -3.7860000133514404, -3.698499917984009, -3.9368999004364014, -4.024700164794922, -4.047500133514404, -4.088099956512451, -4.331399917602539, -4.502299785614014, -4.4629998207092285, -4.377600193023682, -4.554299831390381, -4.7108001708984375, -4.84250020980835, -4.95389986038208, -4.892000198364258, -4.963600158691406, -5.1946001052856445, -5.124599933624268, -5.302800178527832, -5.40939998626709, -5.476200103759766, -5.5467000007629395, -5.595900058746338, -5.730599880218506, -5.053299903869629, -4.5152997970581055, -5.3668999671936035]}, \"token.table\": {\"Topic\": [4, 4, 1, 2, 4, 4, 2, 4, 1, 2, 3, 4, 3, 1, 2, 3, 4, 4, 2, 4, 1, 1, 4, 1, 2, 3, 4, 2, 2, 1, 3, 3, 1, 1, 2, 2, 3, 4, 1, 2, 1, 2, 3, 4, 4, 4, 4, 3, 4, 1, 1, 1, 2, 3, 4, 1, 4, 1, 2, 3, 4, 2, 4, 1, 3, 1, 2, 1, 1, 1, 2, 3, 4, 2, 3, 3, 2, 2, 1, 3, 3, 1, 4, 3, 3, 1, 1, 2, 4, 1, 4, 3, 3, 3, 4, 3, 2, 2, 3, 1, 1, 4, 3, 1, 2, 3, 4, 3, 2, 2, 1, 4, 4, 1, 4, 4, 4, 2, 2, 3, 2, 3, 3, 1, 2, 1, 4, 3, 1, 3, 2, 2, 2, 3, 3, 2, 3, 4, 3, 1, 1, 2, 1, 3, 2, 1, 1, 4, 1, 4, 3, 4, 4, 2, 1, 2, 3, 4, 2, 2, 1, 3], \"Freq\": [0.9742353558540344, 0.9809474945068359, 0.04543224722146988, 0.04543224722146988, 0.90864497423172, 0.9310027360916138, 0.9902499914169312, 0.9914276003837585, 0.026692796498537064, 0.013346398249268532, 0.9342478513717651, 0.013346398249268532, 0.9765401482582092, 0.14206844568252563, 0.14206844568252563, 0.649455726146698, 0.06088647618889809, 0.9519383907318115, 0.9982777237892151, 0.9830445051193237, 0.9946138858795166, 0.9965538382530212, 0.9935505986213684, 0.09318841248750687, 0.0698913112282753, 0.04659420624375343, 0.7921015620231628, 0.9906027317047119, 0.9965789914131165, 0.9799823760986328, 0.9555709362030029, 0.9863657355308533, 0.9915095567703247, 0.9843413829803467, 0.9973349571228027, 0.9893726110458374, 0.9785344004631042, 0.9713576436042786, 0.9978603720664978, 0.9817410111427307, 0.30267688632011414, 0.5778376460075378, 0.06420418620109558, 0.0550321601331234, 0.9967562556266785, 0.9400471448898315, 0.9787964820861816, 0.9796270132064819, 0.9432940483093262, 0.9736332893371582, 0.9942130446434021, 0.026692796498537064, 0.013346398249268532, 0.9342478513717651, 0.013346398249268532, 0.9830923080444336, 0.921021580696106, 0.9889470934867859, 0.004299769643694162, 0.004299769643694162, 0.004299769643694162, 0.9912145137786865, 0.9639144539833069, 0.9913650155067444, 0.964460551738739, 0.9979086518287659, 0.9778685569763184, 0.9983333349227905, 0.9936498403549194, 0.3363930583000183, 0.4848017394542694, 0.11872696131467819, 0.06925739347934723, 0.9859680533409119, 0.9614611268043518, 0.9820091724395752, 0.9829502105712891, 0.9916172623634338, 0.9999104142189026, 0.9976456761360168, 0.989575982093811, 0.9866674542427063, 0.9978730082511902, 0.9923073649406433, 0.9919015169143677, 0.9995289444923401, 0.9766013026237488, 0.9964290857315063, 0.9944535493850708, 0.9908072352409363, 0.9708194136619568, 0.9947440028190613, 0.9800344705581665, 0.9672120809555054, 0.9950186610221863, 0.9976806044578552, 0.9908026456832886, 0.9968071579933167, 0.9897509813308716, 0.9866514205932617, 0.9825104475021362, 0.9877303242683411, 0.9872175455093384, 0.026692796498537064, 0.013346398249268532, 0.9342478513717651, 0.013346398249268532, 0.9840956926345825, 0.9651500582695007, 0.9877215027809143, 0.005090315360575914, 0.9926115274429321, 0.9664214253425598, 0.9959640502929688, 0.9877926111221313, 0.9930366277694702, 0.9732421636581421, 0.9806054830551147, 0.9824849963188171, 0.9963544011116028, 0.9849483370780945, 0.9618749618530273, 0.9793291091918945, 0.9986217021942139, 0.9964197874069214, 0.977575421333313, 0.9825522899627686, 0.9716363549232483, 0.9915734529495239, 0.9733759164810181, 0.9944285154342651, 0.9871120452880859, 0.9927849173545837, 0.9623713493347168, 0.9512060284614563, 0.9892046451568604, 0.9935564398765564, 0.9188101291656494, 0.9727578163146973, 0.9763489365577698, 0.9830678105354309, 0.996353030204773, 0.9931573271751404, 0.9724125266075134, 0.9845752120018005, 0.9761316180229187, 0.983269989490509, 0.9825575351715088, 0.002094483934342861, 0.9969743490219116, 0.9618768692016602, 0.9809945225715637, 0.9465322494506836, 0.9937726855278015, 0.10862292349338531, 0.05431146174669266, 0.05431146174669266, 0.8146719336509705, 0.9784373641014099, 0.9771871566772461, 0.9952806234359741, 0.9940042495727539], \"Term\": [\"accelerate\", \"add\", \"advance\", \"advance\", \"advance\", \"ai\", \"amp\", \"announce\", \"arrange\", \"arrange\", \"arrange\", \"arrange\", \"ask\", \"augur\", \"augur\", \"augur\", \"augur\", \"back\", \"base\", \"become\", \"bitcoin\", \"blockchain\", \"break\", \"btctn\", \"btctn\", \"btctn\", \"btctn\", \"build\", \"buy\", \"byzantium\", \"call\", \"change\", \"check\", \"combine\", \"come\", \"compare\", \"complete\", \"contribute\", \"could\", \"create\", \"cross\", \"cross\", \"cross\", \"cross\", \"decentralize\", \"deliver\", \"discuss\", \"earn\", \"enable\", \"end\", \"enjoy\", \"establish\", \"establish\", \"establish\", \"establish\", \"excite\", \"expand\", \"expire\", \"expire\", \"expire\", \"expire\", \"fall\", \"find\", \"follow\", \"game\", \"get\", \"give\", \"go\", \"grow\", \"hack\", \"hack\", \"hack\", \"hack\", \"happen\", \"hear\", \"help\", \"hit\", \"hold\", \"https\", \"increase\", \"integrate\", \"interview\", \"introduce\", \"invest\", \"involve\", \"join\", \"keep\", \"know\", \"launch\", \"learn\", \"leave\", \"lend\", \"let\", \"like\", \"list\", \"live\", \"look\", \"make\", \"may\", \"meet\", \"mention\", \"miss\", \"need\", \"negotiate\", \"negotiate\", \"negotiate\", \"negotiate\", \"offer\", \"open\", \"participate\", \"perform\", \"perform\", \"post\", \"protect\", \"provide\", \"publish\", \"put\", \"rajuahm\", \"reach\", \"read\", \"receive\", \"regulate\", \"release\", \"replace\", \"retweet\", \"revolutionize\", \"rt\", \"run\", \"say\", \"scale\", \"see\", \"sell\", \"send\", \"soar\", \"solve\", \"speak\", \"start\", \"study\", \"subscribe\", \"support\", \"take\", \"thank\", \"think\", \"try\", \"tune\", \"understand\", \"upcom\", \"value\", \"valueiz\", \"valueiz\", \"visit\", \"vote\", \"wait\", \"want\", \"warn\", \"warn\", \"warn\", \"warn\", \"welcome\", \"win\", \"work\", \"would\"]}, \"R\": 30, \"lambda.step\": 0.01, \"plot.opts\": {\"xlab\": \"PC1\", \"ylab\": \"PC2\"}, \"topic.order\": [3, 2, 4, 1]};\n",
       "\n",
       "function LDAvis_load_lib(url, callback){\n",
       "  var s = document.createElement('script');\n",
       "  s.src = url;\n",
       "  s.async = true;\n",
       "  s.onreadystatechange = s.onload = callback;\n",
       "  s.onerror = function(){console.warn(\"failed to load library \" + url);};\n",
       "  document.getElementsByTagName(\"head\")[0].appendChild(s);\n",
       "}\n",
       "\n",
       "if(typeof(LDAvis) !== \"undefined\"){\n",
       "   // already loaded: just create the visualization\n",
       "   !function(LDAvis){\n",
       "       new LDAvis(\"#\" + \"ldavis_el1043619402301109283715905576\", ldavis_el1043619402301109283715905576_data);\n",
       "   }(LDAvis);\n",
       "}else if(typeof define === \"function\" && define.amd){\n",
       "   // require.js is available: use it to load d3/LDAvis\n",
       "   require.config({paths: {d3: \"https://cdnjs.cloudflare.com/ajax/libs/d3/3.5.5/d3.min\"}});\n",
       "   require([\"d3\"], function(d3){\n",
       "      window.d3 = d3;\n",
       "      LDAvis_load_lib(\"https://cdn.rawgit.com/bmabey/pyLDAvis/files/ldavis.v1.0.0.js\", function(){\n",
       "        new LDAvis(\"#\" + \"ldavis_el1043619402301109283715905576\", ldavis_el1043619402301109283715905576_data);\n",
       "      });\n",
       "    });\n",
       "}else{\n",
       "    // require.js not available: dynamically load d3 & LDAvis\n",
       "    LDAvis_load_lib(\"https://cdnjs.cloudflare.com/ajax/libs/d3/3.5.5/d3.min.js\", function(){\n",
       "         LDAvis_load_lib(\"https://cdn.rawgit.com/bmabey/pyLDAvis/files/ldavis.v1.0.0.js\", function(){\n",
       "                 new LDAvis(\"#\" + \"ldavis_el1043619402301109283715905576\", ldavis_el1043619402301109283715905576_data);\n",
       "            })\n",
       "         });\n",
       "}\n",
       "</script>"
      ],
      "text/plain": [
       "PreparedData(topic_coordinates=              x         y  topics  cluster       Freq\n",
       "topic                                                \n",
       "2      0.384928 -0.011503       1        1  57.141388\n",
       "1     -0.113655  0.131754       2        1  15.751325\n",
       "3     -0.129478  0.190902       3        1  14.003409\n",
       "0     -0.141795 -0.311153       4        1  13.103882, topic_info=     Category         Freq          Term        Total  loglift  logprob\n",
       "term                                                                   \n",
       "2     Default  7701.000000         https  7701.000000  30.0000  30.0000\n",
       "90    Default   507.000000     introduce   507.000000  29.0000  29.0000\n",
       "287   Default   477.000000       valueiz   477.000000  28.0000  28.0000\n",
       "22    Default  1186.000000          join  1186.000000  27.0000  27.0000\n",
       "191   Default   328.000000          read   328.000000  26.0000  26.0000\n",
       "63    Default   305.000000          come   305.000000  25.0000  25.0000\n",
       "37    Default   235.000000          make   235.000000  24.0000  24.0000\n",
       "128   Default   205.000000      increase   205.000000  23.0000  23.0000\n",
       "146   Default   196.000000       perform   196.000000  22.0000  22.0000\n",
       "80    Default   180.000000          lend   180.000000  21.0000  21.0000\n",
       "65    Default   164.000000          base   164.000000  20.0000  20.0000\n",
       "12    Default   144.000000          list   144.000000  19.0000  19.0000\n",
       "236   Default   153.000000          know   153.000000  18.0000  18.0000\n",
       "31    Default   134.000000         break   134.000000  17.0000  17.0000\n",
       "161   Default   135.000000       involve   135.000000  16.0000  16.0000\n",
       "5     Default   133.000000         start   133.000000  15.0000  15.0000\n",
       "51    Default   132.000000        invest   132.000000  14.0000  14.0000\n",
       "137   Default   128.000000         thank   128.000000  13.0000  13.0000\n",
       "310   Default   115.000000          live   115.000000  12.0000  12.0000\n",
       "32    Default   417.000000            go   417.000000  11.0000  11.0000\n",
       "612   Default   107.000000     integrate   107.000000  10.0000  10.0000\n",
       "248   Default   102.000000  decentralize   102.000000   9.0000   9.0000\n",
       "75    Default   110.000000           buy   110.000000   8.0000   8.0000\n",
       "260   Default   109.000000         speak   109.000000   7.0000   7.0000\n",
       "152   Default   103.000000          want   103.000000   6.0000   6.0000\n",
       "187   Default   102.000000       retweet   102.000000   5.0000   5.0000\n",
       "108   Default    96.000000           see    96.000000   4.0000   4.0000\n",
       "28    Default    88.000000           may    88.000000   3.0000   3.0000\n",
       "78    Default    84.000000         would    84.000000   2.0000   2.0000\n",
       "91    Default    86.000000          send    86.000000   1.0000   1.0000\n",
       "...       ...          ...           ...          ...      ...      ...\n",
       "31     Topic4   134.099838         break   134.869827   2.0265  -3.1447\n",
       "146    Topic4   194.972366       perform   196.451477   2.0247  -2.7704\n",
       "248    Topic4   101.529510  decentralize   102.331940   2.0244  -3.4229\n",
       "119    Topic4    70.617012        launch    71.395996   2.0213  -3.7860\n",
       "203    Topic4    77.078522       provide    77.951584   2.0210  -3.6985\n",
       "331    Topic4    60.725365      announce    61.527439   2.0191  -3.9369\n",
       "118    Topic4    55.620525       publish    56.392685   2.0185  -4.0247\n",
       "412    Topic4    54.366585       discuss    55.169792   2.0176  -4.0475\n",
       "328    Topic4    52.202545           add    53.009972   2.0169  -4.0881\n",
       "245    Topic4    40.931484        become    41.707165   2.0135  -4.3314\n",
       "84     Topic4    34.499165          find    35.272839   2.0101  -4.5023\n",
       "921    Topic4    35.884087          vote    36.697453   2.0098  -4.4630\n",
       "364    Topic4    39.081680    accelerate    40.031395   2.0083  -4.3776\n",
       "327    Topic4    32.751320         value    33.585819   2.0071  -4.5543\n",
       "212    Topic4    28.007816         leave    28.841616   2.0029  -4.7108\n",
       "103    Topic4    24.550877          miss    25.310553   2.0018  -4.8425\n",
       "222    Topic4    21.963219          post    22.764397   1.9964  -4.9539\n",
       "234    Topic4    23.366129          wait    24.299225   1.9931  -4.8920\n",
       "451    Topic4    21.752117    contribute    22.648712   1.9919  -4.9636\n",
       "112    Topic4    17.265329        enable    18.021952   1.9894  -5.1946\n",
       "67     Topic4    18.516384            rt    19.337393   1.9889  -5.1246\n",
       "230    Topic4    15.494755         study    16.325462   1.9800  -5.3028\n",
       "83     Topic4    13.928091          back    14.706834   1.9779  -5.4094\n",
       "1      Topic4    13.027411       deliver    13.829094   1.9725  -5.4762\n",
       "99     Topic4    12.140540            ai    12.889328   1.9724  -5.5467\n",
       "223    Topic4    11.558303           put    12.329922   1.9676  -5.5959\n",
       "688    Topic4    10.101829        expand    10.857509   1.9601  -5.7306\n",
       "834    Topic4    19.885317       advance    22.010798   1.9307  -5.0533\n",
       "52     Topic4    34.053993         btctn    42.923790   1.8008  -4.5153\n",
       "378    Topic4    14.532303          warn    18.412319   1.7956  -5.3669\n",
       "\n",
       "[161 rows x 6 columns], token_table=      Topic      Freq        Term\n",
       "term                             \n",
       "364       4  0.974235  accelerate\n",
       "328       4  0.980947         add\n",
       "834       1  0.045432     advance\n",
       "834       2  0.045432     advance\n",
       "834       4  0.908645     advance\n",
       "99        4  0.931003          ai\n",
       "133       2  0.990250         amp\n",
       "331       4  0.991428    announce\n",
       "1197      1  0.026693     arrange\n",
       "1197      2  0.013346     arrange\n",
       "1197      3  0.934248     arrange\n",
       "1197      4  0.013346     arrange\n",
       "172       3  0.976540         ask\n",
       "1211      1  0.142068       augur\n",
       "1211      2  0.142068       augur\n",
       "1211      3  0.649456       augur\n",
       "1211      4  0.060886       augur\n",
       "83        4  0.951938        back\n",
       "65        2  0.998278        base\n",
       "245       4  0.983045      become\n",
       "23        1  0.994614     bitcoin\n",
       "0         1  0.996554  blockchain\n",
       "31        4  0.993551       break\n",
       "52        1  0.093188       btctn\n",
       "52        2  0.069891       btctn\n",
       "52        3  0.046594       btctn\n",
       "52        4  0.792102       btctn\n",
       "10        2  0.990603       build\n",
       "75        2  0.996579         buy\n",
       "928       1  0.979982   byzantium\n",
       "...     ...       ...         ...\n",
       "91        2  0.992785        send\n",
       "72        3  0.962371        soar\n",
       "500       3  0.951206       solve\n",
       "260       2  0.989205       speak\n",
       "5         3  0.993556       start\n",
       "230       4  0.918810       study\n",
       "196       3  0.972758   subscribe\n",
       "87        1  0.976349     support\n",
       "57        1  0.983068        take\n",
       "137       2  0.996353       thank\n",
       "96        1  0.993157       think\n",
       "190       3  0.972413         try\n",
       "34        2  0.984575        tune\n",
       "16        1  0.976132  understand\n",
       "88        1  0.983270       upcom\n",
       "327       4  0.982558       value\n",
       "287       1  0.002094     valueiz\n",
       "287       4  0.996974     valueiz\n",
       "371       3  0.961877       visit\n",
       "921       4  0.980995        vote\n",
       "234       4  0.946532        wait\n",
       "152       2  0.993773        want\n",
       "378       1  0.108623        warn\n",
       "378       2  0.054311        warn\n",
       "378       3  0.054311        warn\n",
       "378       4  0.814672        warn\n",
       "138       2  0.978437     welcome\n",
       "101       2  0.977187         win\n",
       "123       1  0.995281        work\n",
       "78        3  0.994004       would\n",
       "\n",
       "[162 rows x 3 columns], R=30, lambda_step=0.01, plot_opts={'xlab': 'PC1', 'ylab': 'PC2'}, topic_order=[3, 2, 4, 1])"
      ]
     },
     "execution_count": 38,
     "metadata": {},
     "output_type": "execute_result"
    }
   ],
   "source": [
    "# Visualize the topics\n",
    "pyLDAvis.enable_notebook()\n",
    "vis_verb = pyLDAvis.gensim.prepare(lda_model_verb, corpus_verb, id2word_verb)\n",
    "vis_verb"
   ]
  },
  {
   "cell_type": "code",
   "execution_count": null,
   "metadata": {},
   "outputs": [],
   "source": []
  }
 ],
 "metadata": {
  "kernelspec": {
   "display_name": "Python 3",
   "language": "python",
   "name": "python3"
  },
  "language_info": {
   "codemirror_mode": {
    "name": "ipython",
    "version": 3
   },
   "file_extension": ".py",
   "mimetype": "text/x-python",
   "name": "python",
   "nbconvert_exporter": "python",
   "pygments_lexer": "ipython3",
   "version": "3.6.5"
  }
 },
 "nbformat": 4,
 "nbformat_minor": 2
}
